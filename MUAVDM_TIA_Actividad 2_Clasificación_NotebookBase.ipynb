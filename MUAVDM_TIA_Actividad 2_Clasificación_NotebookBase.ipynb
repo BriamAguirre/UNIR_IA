{
 "cells": [
  {
   "cell_type": "markdown",
   "id": "9bcd7ac0",
   "metadata": {},
   "source": [
    "<img src=\"https://www.unir.net/wp-content/uploads/2019/11/Unir_2021_logo.svg\" width=\"240\" height=\"240\" align=\"right\"/>"
   ]
  },
  {
   "cell_type": "markdown",
   "id": "8b6f603c",
   "metadata": {},
   "source": [
    "<center><h1>Técnicas de Inteligencia Artificial</header1></center>\n",
    "<left><h1>Actividad 2. Trabajando con redes neuronales y Deep Learning</header1></left>"
   ]
  },
  {
   "cell_type": "markdown",
   "id": "3eb1aaac",
   "metadata": {},
   "source": [
    "Presentado por: Briam Pavel Aguirre Moisés  <br>\n",
    "Fecha: 28/05/2023"
   ]
  },
  {
   "cell_type": "markdown",
   "id": "1dec299b",
   "metadata": {
    "ExecuteTime": {
     "end_time": "2022-03-14T15:14:04.930713Z",
     "start_time": "2022-03-14T15:14:04.921682Z"
    }
   },
   "source": [
    "# Importación de librerias necesarias"
   ]
  },
  {
   "cell_type": "code",
   "execution_count": 1,
   "id": "1ee5665c",
   "metadata": {},
   "outputs": [],
   "source": [
    "import pandas as pd\n",
    "import numpy as np\n",
    "import seaborn as sns\n",
    "import matplotlib.pyplot as plt\n",
    "import os "
   ]
  },
  {
   "cell_type": "markdown",
   "id": "62f9424f",
   "metadata": {},
   "source": [
    "# Parte II. Clasificación"
   ]
  },
  {
   "cell_type": "code",
   "execution_count": 2,
   "id": "6d1abf7a",
   "metadata": {
    "ExecuteTime": {
     "end_time": "2022-03-14T15:14:46.228059Z",
     "start_time": "2022-03-14T15:14:46.223108Z"
    }
   },
   "outputs": [],
   "source": [
    "#Para esta actividad se importarán las siguientes librerías:\n",
    "os.chdir(\"C:/Users/bpagu/Desktop/UNIR/3. Técnicas de Inteligencia Artificial/Actividades/Actividad 2\")"
   ]
  },
  {
   "cell_type": "markdown",
   "id": "6a44b924",
   "metadata": {},
   "source": [
    "## Cargar el Dataset\n",
    "\n",
    "Con al menos 1000 instancias, una variable/atributo de la salida, y que dependa de, al menos, 6 variables/atributos de entrada. "
   ]
  },
  {
   "cell_type": "code",
   "execution_count": 3,
   "id": "3541e808",
   "metadata": {},
   "outputs": [],
   "source": [
    "#Código para cargar el Dataset\n",
    "#url = 'https://raw.githubusercontent.com/oscar-unir/TIA/main/datasets/car/Laboratorio_dataset_car.csv'\n",
    "df = pd.read_csv(\"train.csv\")"
   ]
  },
  {
   "cell_type": "markdown",
   "id": "c251c248",
   "metadata": {},
   "source": [
    "## Descripción de la fuente del Dataset"
   ]
  },
  {
   "cell_type": "markdown",
   "id": "53452ea7",
   "metadata": {},
   "source": [
    "Haga una descripción de la fuente de datos utilizada (Incluya los enlaces necesarios)."
   ]
  },
  {
   "cell_type": "markdown",
   "id": "618fdfc1",
   "metadata": {},
   "source": []
  },
  {
   "cell_type": "markdown",
   "id": "7f868eab",
   "metadata": {},
   "source": [
    "## Explique el problema a resolver. \n",
    "Descripción del problema. Tipo de problema (justifique). Variable objetivo, variables de entrada. Utilidad de su posible solución. Elementos adicionales que considere relevantes (no son necesarios contenidos teóricos, sino explicar qué relaciones tratas de comprobar y con qué métodos)."
   ]
  },
  {
   "cell_type": "code",
   "execution_count": null,
   "id": "f97583f5",
   "metadata": {},
   "outputs": [],
   "source": []
  },
  {
   "cell_type": "markdown",
   "id": "a0b719c1",
   "metadata": {},
   "source": [
    "## Caracterización del Dataset\n",
    "\n",
    "Realice una descripción de los datos con:\n",
    "\n",
    ">- Número de instancias en total.\n",
    ">- Número de atributos de entrada, su significado y tipo.\n",
    ">- Número de clases de la variable objetivo, indicando que representan dichas clases y el tipo de valor que toman.\n",
    ">- Número de instancias pertenecientes a cada clase en la variable objetivo.\n",
    ">- Estadísticas de la variable objetivo.\n",
    ">- Estadísticas los atributos en relación con la variable objetivo.\n",
    "\n",
    "Se incorporá una pequeña descripción (EDA) del conjunto de datos utilizado. Se analiza el dataset proporcionando, se muestra al menos algunas de sus características mediante tablas y al menos algunas de ellas en modo gráfico (p.ej., histogramas, diagramas de dispersión, diagramas de cajas y bigotes, etc.)\n"
   ]
  },
  {
   "cell_type": "code",
   "execution_count": 4,
   "id": "f34297c2",
   "metadata": {},
   "outputs": [
    {
     "data": {
      "text/plain": [
       "8068"
      ]
     },
     "execution_count": 4,
     "metadata": {},
     "output_type": "execute_result"
    }
   ],
   "source": [
    "# Número de instancias en total\n",
    "df.shape[0]"
   ]
  },
  {
   "cell_type": "markdown",
   "id": "efaac224",
   "metadata": {},
   "source": [
    "**Número de instancias en total** Se tiene un total de 8068 instancias"
   ]
  },
  {
   "cell_type": "code",
   "execution_count": 5,
   "id": "618d83d3",
   "metadata": {},
   "outputs": [
    {
     "data": {
      "text/plain": [
       "11"
      ]
     },
     "execution_count": 5,
     "metadata": {},
     "output_type": "execute_result"
    }
   ],
   "source": [
    "# Número de atributos de entrada\n",
    "df.shape[1]-1"
   ]
  },
  {
   "cell_type": "markdown",
   "id": "34fe60ef",
   "metadata": {},
   "source": [
    "**Número de atributos de entrada** Son 11 atributos de entrada, se detalla a continuación su significado y tipo\n",
    "\n",
    "- **ID:** Código único (Categórica nominal).\n",
    "- **Gender:** Género (Categórica nominal).\n",
    "- **Ever_Married:** Estado matrimonial (Categórica nominal).\n",
    "- **Age:** Edad (Numérica continua).\n",
    "- **Graduated:** Graduado o no (Categórica nominal).\n",
    "- **Profession:** Profesión (Categórica nominal).\n",
    "- **Work Experience:** Experiencia trabajando en años (Numérica discreta).\n",
    "- **Spending Score:** Puntaje de gasto (Categórica ordinal).\n",
    "- **Family Size:** Cantidad de miembros en la familia (Numérica discreta).\n",
    "- **Var_1:** Categoría anónima (Categórica nominal)."
   ]
  },
  {
   "cell_type": "code",
   "execution_count": 6,
   "id": "270b2257",
   "metadata": {},
   "outputs": [
    {
     "data": {
      "text/plain": [
       "array(['D', 'A', 'B', 'C', 'E'], dtype=object)"
      ]
     },
     "execution_count": 6,
     "metadata": {},
     "output_type": "execute_result"
    }
   ],
   "source": [
    "# Número de clases de la variable objetivo\n",
    "df[\"Segmentation\"].unique()"
   ]
  },
  {
   "cell_type": "markdown",
   "id": "83dc1ffc",
   "metadata": {},
   "source": [
    "**Número de clases del target:** Existen cinco clases en la variable Segmentación, cada clase representa una segmentación distinta y el valor que toma es de tipo categórico."
   ]
  },
  {
   "cell_type": "code",
   "execution_count": 7,
   "id": "305b667b",
   "metadata": {},
   "outputs": [
    {
     "data": {
      "text/plain": [
       "C    1970\n",
       "B    1858\n",
       "D    1617\n",
       "A    1418\n",
       "E    1205\n",
       "Name: Segmentation, dtype: int64"
      ]
     },
     "execution_count": 7,
     "metadata": {},
     "output_type": "execute_result"
    }
   ],
   "source": [
    "# Número de instancias pertenecientes a cada clase en el target\n",
    "pd.value_counts(df[\"Segmentation\"])"
   ]
  },
  {
   "cell_type": "markdown",
   "id": "18f7aaba",
   "metadata": {},
   "source": [
    "**Número de instancias pertenecientes al target:** Se muestra la cantidad de instancias por clase del target, siendo la segmentación C la que más instancias tiene y la E la de menor. "
   ]
  },
  {
   "cell_type": "code",
   "execution_count": 8,
   "id": "66590580",
   "metadata": {},
   "outputs": [
    {
     "data": {
      "text/plain": [
       "count     8068\n",
       "unique       5\n",
       "top          C\n",
       "freq      1970\n",
       "Name: Segmentation, dtype: object"
      ]
     },
     "execution_count": 8,
     "metadata": {},
     "output_type": "execute_result"
    }
   ],
   "source": [
    "# Estadísticas de la variable objetivo\n",
    "df[\"Segmentation\"].describe()"
   ]
  },
  {
   "cell_type": "markdown",
   "id": "706b5e98",
   "metadata": {},
   "source": [
    "**Estadísticas de la variable objetivo:**"
   ]
  },
  {
   "cell_type": "code",
   "execution_count": null,
   "id": "1cb718dc",
   "metadata": {},
   "outputs": [],
   "source": [
    "# Estadísticas de los atributos en relación con la variable objetivo\n"
   ]
  },
  {
   "cell_type": "markdown",
   "id": "80163358",
   "metadata": {},
   "source": [
    "**Estadísticas de los atributos en relación a la variable objetivo:**"
   ]
  },
  {
   "cell_type": "code",
   "execution_count": null,
   "id": "8a3d0653",
   "metadata": {},
   "outputs": [],
   "source": []
  },
  {
   "cell_type": "markdown",
   "id": "a7ab5e48",
   "metadata": {},
   "source": [
    "En un par de párrafos haga un resumen de los principales hallazagos encontrados:    "
   ]
  },
  {
   "cell_type": "markdown",
   "id": "ece5beca",
   "metadata": {
    "ExecuteTime": {
     "end_time": "2022-03-14T15:52:20.156185Z",
     "start_time": "2022-03-14T15:52:20.150187Z"
    }
   },
   "source": [
    "## Preprocesamiento del dataset. Transformaciones previas necesarias para la modelación"
   ]
  },
  {
   "cell_type": "code",
   "execution_count": 9,
   "id": "85c9ad88",
   "metadata": {},
   "outputs": [],
   "source": [
    "#Código que realice las transformaciones necesarias para poder realizar los procesos de modelación. Ej.One hot enconding\n",
    "import category_encoders as ce\n",
    "from sklearn.preprocessing import OrdinalEncoder\n",
    "from sklearn.feature_selection import chi2"
   ]
  },
  {
   "cell_type": "markdown",
   "id": "50eb68ff",
   "metadata": {},
   "source": [
    "Eliminamos de nuesto dataset las variables ID por no contener información relevante y Var_1 por ser una variable desconocida "
   ]
  },
  {
   "cell_type": "code",
   "execution_count": 10,
   "id": "43be9b63",
   "metadata": {},
   "outputs": [
    {
     "data": {
      "text/html": [
       "<div>\n",
       "<style scoped>\n",
       "    .dataframe tbody tr th:only-of-type {\n",
       "        vertical-align: middle;\n",
       "    }\n",
       "\n",
       "    .dataframe tbody tr th {\n",
       "        vertical-align: top;\n",
       "    }\n",
       "\n",
       "    .dataframe thead th {\n",
       "        text-align: right;\n",
       "    }\n",
       "</style>\n",
       "<table border=\"1\" class=\"dataframe\">\n",
       "  <thead>\n",
       "    <tr style=\"text-align: right;\">\n",
       "      <th></th>\n",
       "      <th>Gender</th>\n",
       "      <th>Ever_Married</th>\n",
       "      <th>Age</th>\n",
       "      <th>Graduated</th>\n",
       "      <th>Profession</th>\n",
       "      <th>Work_Experience</th>\n",
       "      <th>Spending_Score</th>\n",
       "      <th>Family_Size</th>\n",
       "      <th>Segmentation</th>\n",
       "    </tr>\n",
       "  </thead>\n",
       "  <tbody>\n",
       "    <tr>\n",
       "      <th>0</th>\n",
       "      <td>Male</td>\n",
       "      <td>No</td>\n",
       "      <td>22</td>\n",
       "      <td>No</td>\n",
       "      <td>Healthcare</td>\n",
       "      <td>1.0</td>\n",
       "      <td>Low</td>\n",
       "      <td>4.0</td>\n",
       "      <td>D</td>\n",
       "    </tr>\n",
       "    <tr>\n",
       "      <th>1</th>\n",
       "      <td>Female</td>\n",
       "      <td>Yes</td>\n",
       "      <td>38</td>\n",
       "      <td>Yes</td>\n",
       "      <td>Engineer</td>\n",
       "      <td>NaN</td>\n",
       "      <td>Average</td>\n",
       "      <td>3.0</td>\n",
       "      <td>A</td>\n",
       "    </tr>\n",
       "    <tr>\n",
       "      <th>2</th>\n",
       "      <td>Female</td>\n",
       "      <td>Yes</td>\n",
       "      <td>67</td>\n",
       "      <td>Yes</td>\n",
       "      <td>Engineer</td>\n",
       "      <td>1.0</td>\n",
       "      <td>Low</td>\n",
       "      <td>1.0</td>\n",
       "      <td>B</td>\n",
       "    </tr>\n",
       "    <tr>\n",
       "      <th>3</th>\n",
       "      <td>Male</td>\n",
       "      <td>Yes</td>\n",
       "      <td>67</td>\n",
       "      <td>Yes</td>\n",
       "      <td>Lawyer</td>\n",
       "      <td>0.0</td>\n",
       "      <td>High</td>\n",
       "      <td>2.0</td>\n",
       "      <td>B</td>\n",
       "    </tr>\n",
       "    <tr>\n",
       "      <th>4</th>\n",
       "      <td>Female</td>\n",
       "      <td>Yes</td>\n",
       "      <td>40</td>\n",
       "      <td>Yes</td>\n",
       "      <td>Entertainment</td>\n",
       "      <td>NaN</td>\n",
       "      <td>High</td>\n",
       "      <td>6.0</td>\n",
       "      <td>A</td>\n",
       "    </tr>\n",
       "  </tbody>\n",
       "</table>\n",
       "</div>"
      ],
      "text/plain": [
       "   Gender Ever_Married  Age Graduated     Profession  Work_Experience  \\\n",
       "0    Male           No   22        No     Healthcare              1.0   \n",
       "1  Female          Yes   38       Yes       Engineer              NaN   \n",
       "2  Female          Yes   67       Yes       Engineer              1.0   \n",
       "3    Male          Yes   67       Yes         Lawyer              0.0   \n",
       "4  Female          Yes   40       Yes  Entertainment              NaN   \n",
       "\n",
       "  Spending_Score  Family_Size Segmentation  \n",
       "0            Low          4.0            D  \n",
       "1        Average          3.0            A  \n",
       "2            Low          1.0            B  \n",
       "3           High          2.0            B  \n",
       "4           High          6.0            A  "
      ]
     },
     "execution_count": 10,
     "metadata": {},
     "output_type": "execute_result"
    }
   ],
   "source": [
    "df = df.drop(columns = [\"ID\",\"Var_1\",\"Unnamed: 0\"])\n",
    "df.head(5)"
   ]
  },
  {
   "cell_type": "markdown",
   "id": "978ce8b8",
   "metadata": {},
   "source": [
    "Imputamos los valores missings "
   ]
  },
  {
   "cell_type": "code",
   "execution_count": 11,
   "id": "faa8aa36",
   "metadata": {},
   "outputs": [
    {
     "data": {
      "text/html": [
       "<div>\n",
       "<style scoped>\n",
       "    .dataframe tbody tr th:only-of-type {\n",
       "        vertical-align: middle;\n",
       "    }\n",
       "\n",
       "    .dataframe tbody tr th {\n",
       "        vertical-align: top;\n",
       "    }\n",
       "\n",
       "    .dataframe thead th {\n",
       "        text-align: right;\n",
       "    }\n",
       "</style>\n",
       "<table border=\"1\" class=\"dataframe\">\n",
       "  <thead>\n",
       "    <tr style=\"text-align: right;\">\n",
       "      <th></th>\n",
       "      <th>Age</th>\n",
       "      <th>Ever_Married</th>\n",
       "      <th>Family_Size</th>\n",
       "      <th>Gender</th>\n",
       "      <th>Graduated</th>\n",
       "      <th>Profession</th>\n",
       "      <th>Spending_Score</th>\n",
       "      <th>Work_Experience</th>\n",
       "    </tr>\n",
       "    <tr>\n",
       "      <th>Segmentation</th>\n",
       "      <th></th>\n",
       "      <th></th>\n",
       "      <th></th>\n",
       "      <th></th>\n",
       "      <th></th>\n",
       "      <th></th>\n",
       "      <th></th>\n",
       "      <th></th>\n",
       "    </tr>\n",
       "  </thead>\n",
       "  <tbody>\n",
       "    <tr>\n",
       "      <th>A</th>\n",
       "      <td>35</td>\n",
       "      <td>No</td>\n",
       "      <td>2.0</td>\n",
       "      <td>Male</td>\n",
       "      <td>Yes</td>\n",
       "      <td>Artist</td>\n",
       "      <td>Low</td>\n",
       "      <td>0.0</td>\n",
       "    </tr>\n",
       "    <tr>\n",
       "      <th>B</th>\n",
       "      <td>43</td>\n",
       "      <td>Yes</td>\n",
       "      <td>2.0</td>\n",
       "      <td>Male</td>\n",
       "      <td>Yes</td>\n",
       "      <td>Artist</td>\n",
       "      <td>Low</td>\n",
       "      <td>1.0</td>\n",
       "    </tr>\n",
       "    <tr>\n",
       "      <th>C</th>\n",
       "      <td>50</td>\n",
       "      <td>Yes</td>\n",
       "      <td>2.0</td>\n",
       "      <td>Male</td>\n",
       "      <td>Yes</td>\n",
       "      <td>Artist</td>\n",
       "      <td>Average</td>\n",
       "      <td>1.0</td>\n",
       "    </tr>\n",
       "    <tr>\n",
       "      <th>D</th>\n",
       "      <td>22</td>\n",
       "      <td>No</td>\n",
       "      <td>4.0</td>\n",
       "      <td>Male</td>\n",
       "      <td>No</td>\n",
       "      <td>Healthcare</td>\n",
       "      <td>Low</td>\n",
       "      <td>0.0</td>\n",
       "    </tr>\n",
       "    <tr>\n",
       "      <th>E</th>\n",
       "      <td>53</td>\n",
       "      <td>Yes</td>\n",
       "      <td>1.0</td>\n",
       "      <td>Male</td>\n",
       "      <td>Yes</td>\n",
       "      <td>Lawyer</td>\n",
       "      <td>Low</td>\n",
       "      <td>1.0</td>\n",
       "    </tr>\n",
       "  </tbody>\n",
       "</table>\n",
       "</div>"
      ],
      "text/plain": [
       "              Age Ever_Married  Family_Size Gender Graduated  Profession  \\\n",
       "Segmentation                                                               \n",
       "A              35           No          2.0   Male       Yes      Artist   \n",
       "B              43          Yes          2.0   Male       Yes      Artist   \n",
       "C              50          Yes          2.0   Male       Yes      Artist   \n",
       "D              22           No          4.0   Male        No  Healthcare   \n",
       "E              53          Yes          1.0   Male       Yes      Lawyer   \n",
       "\n",
       "             Spending_Score  Work_Experience  \n",
       "Segmentation                                  \n",
       "A                       Low              0.0  \n",
       "B                       Low              1.0  \n",
       "C                   Average              1.0  \n",
       "D                       Low              0.0  \n",
       "E                       Low              1.0  "
      ]
     },
     "execution_count": 11,
     "metadata": {},
     "output_type": "execute_result"
    }
   ],
   "source": [
    "pd.pivot_table(df, index = \"Segmentation\", aggfunc=lambda x: x.mode().iat[0])"
   ]
  },
  {
   "cell_type": "code",
   "execution_count": 12,
   "id": "d51e53cd",
   "metadata": {},
   "outputs": [],
   "source": [
    "df[\"Ever_Married\"] = df.groupby([\"Segmentation\"])[\"Ever_Married\"].apply(lambda x: x.fillna(x.mode().iat[0]))\n",
    "df[\"Graduated\"] = df.groupby([\"Segmentation\"])[\"Graduated\"].apply(lambda x: x.fillna(x.mode().iat[0]))\n",
    "df[\"Profession\"] = df.groupby([\"Segmentation\"])[\"Profession\"].apply(lambda x: x.fillna(x.mode().iat[0]))\n",
    "df[\"Family_Size\"] = df.groupby([\"Segmentation\"])[\"Family_Size\"].apply(lambda x: x.fillna(x.mean()))\n",
    "df[\"Work_Experience\"] = df[\"Work_Experience\"].replace(np.nan,1)"
   ]
  },
  {
   "cell_type": "markdown",
   "id": "3a5ab535",
   "metadata": {},
   "source": [
    "Discretizamos las variables cuantitativas"
   ]
  },
  {
   "cell_type": "code",
   "execution_count": 13,
   "id": "375c632a",
   "metadata": {},
   "outputs": [],
   "source": [
    "df[\"Age\"] = pd.cut(x = df[\"Age\"], bins = [16,18,26,59,df[\"Age\"].max()] , labels = [\"Adolescencia\",\"Juventud\",\"Adultez\",\"Vejez\"])\n",
    "df[\"Work_Experience\"] = pd.cut(x = df[\"Work_Experience\"], bins = [-1,2,6,df[\"Work_Experience\"].max()], labels = [\"Junior\",\"Semi-Senior\",\"Senior\"])\n",
    "df[\"Family_Size\"] = pd.cut(x = df[\"Family_Size\"], bins = [0,3,6,df[\"Family_Size\"].max()] , labels = [\"Pequeña\",\"Mediana\",\"Grande\"])"
   ]
  },
  {
   "cell_type": "markdown",
   "id": "a81a8f52",
   "metadata": {},
   "source": [
    "Hacemos uso de variables dummies para nuestras variables categóricas nominales."
   ]
  },
  {
   "cell_type": "code",
   "execution_count": 14,
   "id": "67154a1e",
   "metadata": {},
   "outputs": [],
   "source": [
    "df_new = pd.get_dummies(df, columns = [\"Gender\",\"Ever_Married\",\"Graduated\",\"Profession\"], drop_first = True)"
   ]
  },
  {
   "cell_type": "markdown",
   "id": "fbfa94df",
   "metadata": {},
   "source": [
    "Hacemos uso del One Hot Encoder para nuestras variables categóricas ordinales"
   ]
  },
  {
   "cell_type": "code",
   "execution_count": 15,
   "id": "fa5a6ca0",
   "metadata": {},
   "outputs": [],
   "source": [
    "a = [\"Low\",\"Average\",\"High\"]\n",
    "b = [\"A\",\"B\",\"C\",\"D\",\"E\"]\n",
    "c = [\"Adolescencia\",\"Juventud\",\"Adultez\",\"Vejez\"]\n",
    "d = [\"Junior\",\"Semi-Senior\",\"Senior\"]\n",
    "e = [\"Pequeña\",\"Mediana\",\"Grande\"]\n",
    "encoder = OrdinalEncoder(categories = [a,b,c,d,e])\n",
    "df_new_encoder = encoder.fit_transform(df_new[[\"Spending_Score\",\"Segmentation\",\"Age\",\"Work_Experience\",\"Family_Size\"]])\n",
    "df_new_encoder = pd.DataFrame(df_new_encoder,columns = [\"Spending_Score\",\"Segmentation\",\"Age\",\"Work_Experience\",\"Family_Size\"])"
   ]
  },
  {
   "cell_type": "code",
   "execution_count": 16,
   "id": "7dfc4e29",
   "metadata": {},
   "outputs": [],
   "source": [
    "df_new_encoder = df_new_encoder.reset_index()\n",
    "df_new = df_new.drop(columns = [\"Age\",\"Work_Experience\",\"Spending_Score\",\"Family_Size\",\"Segmentation\"]).reset_index()"
   ]
  },
  {
   "cell_type": "code",
   "execution_count": 17,
   "id": "08d19c86",
   "metadata": {},
   "outputs": [
    {
     "data": {
      "text/html": [
       "<div>\n",
       "<style scoped>\n",
       "    .dataframe tbody tr th:only-of-type {\n",
       "        vertical-align: middle;\n",
       "    }\n",
       "\n",
       "    .dataframe tbody tr th {\n",
       "        vertical-align: top;\n",
       "    }\n",
       "\n",
       "    .dataframe thead th {\n",
       "        text-align: right;\n",
       "    }\n",
       "</style>\n",
       "<table border=\"1\" class=\"dataframe\">\n",
       "  <thead>\n",
       "    <tr style=\"text-align: right;\">\n",
       "      <th></th>\n",
       "      <th>Gender_Male</th>\n",
       "      <th>Ever_Married_Yes</th>\n",
       "      <th>Graduated_Yes</th>\n",
       "      <th>Profession_Doctor</th>\n",
       "      <th>Profession_Engineer</th>\n",
       "      <th>Profession_Entertainment</th>\n",
       "      <th>Profession_Executive</th>\n",
       "      <th>Profession_Healthcare</th>\n",
       "      <th>Profession_Homemaker</th>\n",
       "      <th>Profession_Lawyer</th>\n",
       "      <th>Profession_Marketing</th>\n",
       "      <th>Spending_Score</th>\n",
       "      <th>Segmentation</th>\n",
       "      <th>Age</th>\n",
       "      <th>Work_Experience</th>\n",
       "      <th>Family_Size</th>\n",
       "    </tr>\n",
       "  </thead>\n",
       "  <tbody>\n",
       "    <tr>\n",
       "      <th>0</th>\n",
       "      <td>1</td>\n",
       "      <td>0</td>\n",
       "      <td>0</td>\n",
       "      <td>0</td>\n",
       "      <td>0</td>\n",
       "      <td>0</td>\n",
       "      <td>0</td>\n",
       "      <td>1</td>\n",
       "      <td>0</td>\n",
       "      <td>0</td>\n",
       "      <td>0</td>\n",
       "      <td>0.0</td>\n",
       "      <td>3.0</td>\n",
       "      <td>1.0</td>\n",
       "      <td>0.0</td>\n",
       "      <td>1.0</td>\n",
       "    </tr>\n",
       "    <tr>\n",
       "      <th>1</th>\n",
       "      <td>0</td>\n",
       "      <td>1</td>\n",
       "      <td>1</td>\n",
       "      <td>0</td>\n",
       "      <td>1</td>\n",
       "      <td>0</td>\n",
       "      <td>0</td>\n",
       "      <td>0</td>\n",
       "      <td>0</td>\n",
       "      <td>0</td>\n",
       "      <td>0</td>\n",
       "      <td>1.0</td>\n",
       "      <td>0.0</td>\n",
       "      <td>2.0</td>\n",
       "      <td>0.0</td>\n",
       "      <td>0.0</td>\n",
       "    </tr>\n",
       "    <tr>\n",
       "      <th>2</th>\n",
       "      <td>0</td>\n",
       "      <td>1</td>\n",
       "      <td>1</td>\n",
       "      <td>0</td>\n",
       "      <td>1</td>\n",
       "      <td>0</td>\n",
       "      <td>0</td>\n",
       "      <td>0</td>\n",
       "      <td>0</td>\n",
       "      <td>0</td>\n",
       "      <td>0</td>\n",
       "      <td>0.0</td>\n",
       "      <td>1.0</td>\n",
       "      <td>3.0</td>\n",
       "      <td>0.0</td>\n",
       "      <td>0.0</td>\n",
       "    </tr>\n",
       "    <tr>\n",
       "      <th>3</th>\n",
       "      <td>1</td>\n",
       "      <td>1</td>\n",
       "      <td>1</td>\n",
       "      <td>0</td>\n",
       "      <td>0</td>\n",
       "      <td>0</td>\n",
       "      <td>0</td>\n",
       "      <td>0</td>\n",
       "      <td>0</td>\n",
       "      <td>1</td>\n",
       "      <td>0</td>\n",
       "      <td>2.0</td>\n",
       "      <td>1.0</td>\n",
       "      <td>3.0</td>\n",
       "      <td>0.0</td>\n",
       "      <td>0.0</td>\n",
       "    </tr>\n",
       "    <tr>\n",
       "      <th>4</th>\n",
       "      <td>0</td>\n",
       "      <td>1</td>\n",
       "      <td>1</td>\n",
       "      <td>0</td>\n",
       "      <td>0</td>\n",
       "      <td>1</td>\n",
       "      <td>0</td>\n",
       "      <td>0</td>\n",
       "      <td>0</td>\n",
       "      <td>0</td>\n",
       "      <td>0</td>\n",
       "      <td>2.0</td>\n",
       "      <td>0.0</td>\n",
       "      <td>2.0</td>\n",
       "      <td>0.0</td>\n",
       "      <td>1.0</td>\n",
       "    </tr>\n",
       "  </tbody>\n",
       "</table>\n",
       "</div>"
      ],
      "text/plain": [
       "   Gender_Male  Ever_Married_Yes  Graduated_Yes  Profession_Doctor  \\\n",
       "0            1                 0              0                  0   \n",
       "1            0                 1              1                  0   \n",
       "2            0                 1              1                  0   \n",
       "3            1                 1              1                  0   \n",
       "4            0                 1              1                  0   \n",
       "\n",
       "   Profession_Engineer  Profession_Entertainment  Profession_Executive  \\\n",
       "0                    0                         0                     0   \n",
       "1                    1                         0                     0   \n",
       "2                    1                         0                     0   \n",
       "3                    0                         0                     0   \n",
       "4                    0                         1                     0   \n",
       "\n",
       "   Profession_Healthcare  Profession_Homemaker  Profession_Lawyer  \\\n",
       "0                      1                     0                  0   \n",
       "1                      0                     0                  0   \n",
       "2                      0                     0                  0   \n",
       "3                      0                     0                  1   \n",
       "4                      0                     0                  0   \n",
       "\n",
       "   Profession_Marketing  Spending_Score  Segmentation  Age  Work_Experience  \\\n",
       "0                     0             0.0           3.0  1.0              0.0   \n",
       "1                     0             1.0           0.0  2.0              0.0   \n",
       "2                     0             0.0           1.0  3.0              0.0   \n",
       "3                     0             2.0           1.0  3.0              0.0   \n",
       "4                     0             2.0           0.0  2.0              0.0   \n",
       "\n",
       "   Family_Size  \n",
       "0          1.0  \n",
       "1          0.0  \n",
       "2          0.0  \n",
       "3          0.0  \n",
       "4          1.0  "
      ]
     },
     "execution_count": 17,
     "metadata": {},
     "output_type": "execute_result"
    }
   ],
   "source": [
    "df_new = pd.merge(df_new,df_new_encoder, on = \"index\" ).drop(columns = [\"index\"])\n",
    "df_new.head(5)"
   ]
  },
  {
   "cell_type": "markdown",
   "id": "eea5a542",
   "metadata": {},
   "source": [
    "**Prueba chi2:** Se realiza la prueba de chi cuadrado para calcular la importancia de cada variable"
   ]
  },
  {
   "cell_type": "code",
   "execution_count": 18,
   "id": "078ccf9c",
   "metadata": {},
   "outputs": [],
   "source": [
    "X_chi = df_new.drop(columns = [\"Segmentation\"], axis = 1)\n",
    "y_chi = df_new[\"Segmentation\"]"
   ]
  },
  {
   "cell_type": "code",
   "execution_count": 19,
   "id": "369da3e9",
   "metadata": {},
   "outputs": [],
   "source": [
    "chi_scores = chi2(X_chi, y_chi)"
   ]
  },
  {
   "cell_type": "code",
   "execution_count": 20,
   "id": "f13b2a91",
   "metadata": {},
   "outputs": [
    {
     "data": {
      "text/plain": [
       "<AxesSubplot:>"
      ]
     },
     "execution_count": 20,
     "metadata": {},
     "output_type": "execute_result"
    },
    {
     "data": {
      "image/png": "[encoded data removed]",
      "text/plain": [
       "<Figure size 432x288 with 1 Axes>"
      ]
     },
     "metadata": {
      "needs_background": "light"
     },
     "output_type": "display_data"
    }
   ],
   "source": [
    "chi_values = pd.Series(chi_scores[0], index = X_chi.columns)\n",
    "chi_values.sort_values(ascending = False, inplace = True)\n",
    "chi_values.plot.bar()"
   ]
  },
  {
   "cell_type": "markdown",
   "id": "e3525b7a",
   "metadata": {},
   "source": [
    "Después de haber realizado las pruebas de chi cuadrado, se ha optado por no considerar todas las variables sino las 8 más relevantes."
   ]
  },
  {
   "cell_type": "code",
   "execution_count": 21,
   "id": "8157865b",
   "metadata": {},
   "outputs": [
    {
     "data": {
      "text/html": [
       "<div>\n",
       "<style scoped>\n",
       "    .dataframe tbody tr th:only-of-type {\n",
       "        vertical-align: middle;\n",
       "    }\n",
       "\n",
       "    .dataframe tbody tr th {\n",
       "        vertical-align: top;\n",
       "    }\n",
       "\n",
       "    .dataframe thead th {\n",
       "        text-align: right;\n",
       "    }\n",
       "</style>\n",
       "<table border=\"1\" class=\"dataframe\">\n",
       "  <thead>\n",
       "    <tr style=\"text-align: right;\">\n",
       "      <th></th>\n",
       "      <th>Profession_Healthcare</th>\n",
       "      <th>Spending_Score</th>\n",
       "      <th>Ever_Married_Yes</th>\n",
       "      <th>Profession_Lawyer</th>\n",
       "      <th>Age</th>\n",
       "      <th>Graduated_Yes</th>\n",
       "      <th>Family_Size</th>\n",
       "      <th>Segmentation</th>\n",
       "    </tr>\n",
       "  </thead>\n",
       "  <tbody>\n",
       "    <tr>\n",
       "      <th>0</th>\n",
       "      <td>1</td>\n",
       "      <td>0.0</td>\n",
       "      <td>0</td>\n",
       "      <td>0</td>\n",
       "      <td>1.0</td>\n",
       "      <td>0</td>\n",
       "      <td>1.0</td>\n",
       "      <td>3.0</td>\n",
       "    </tr>\n",
       "    <tr>\n",
       "      <th>1</th>\n",
       "      <td>0</td>\n",
       "      <td>1.0</td>\n",
       "      <td>1</td>\n",
       "      <td>0</td>\n",
       "      <td>2.0</td>\n",
       "      <td>1</td>\n",
       "      <td>0.0</td>\n",
       "      <td>0.0</td>\n",
       "    </tr>\n",
       "    <tr>\n",
       "      <th>2</th>\n",
       "      <td>0</td>\n",
       "      <td>0.0</td>\n",
       "      <td>1</td>\n",
       "      <td>0</td>\n",
       "      <td>3.0</td>\n",
       "      <td>1</td>\n",
       "      <td>0.0</td>\n",
       "      <td>1.0</td>\n",
       "    </tr>\n",
       "    <tr>\n",
       "      <th>3</th>\n",
       "      <td>0</td>\n",
       "      <td>2.0</td>\n",
       "      <td>1</td>\n",
       "      <td>1</td>\n",
       "      <td>3.0</td>\n",
       "      <td>1</td>\n",
       "      <td>0.0</td>\n",
       "      <td>1.0</td>\n",
       "    </tr>\n",
       "    <tr>\n",
       "      <th>4</th>\n",
       "      <td>0</td>\n",
       "      <td>2.0</td>\n",
       "      <td>1</td>\n",
       "      <td>0</td>\n",
       "      <td>2.0</td>\n",
       "      <td>1</td>\n",
       "      <td>1.0</td>\n",
       "      <td>0.0</td>\n",
       "    </tr>\n",
       "  </tbody>\n",
       "</table>\n",
       "</div>"
      ],
      "text/plain": [
       "   Profession_Healthcare  Spending_Score  Ever_Married_Yes  Profession_Lawyer  \\\n",
       "0                      1             0.0                 0                  0   \n",
       "1                      0             1.0                 1                  0   \n",
       "2                      0             0.0                 1                  0   \n",
       "3                      0             2.0                 1                  1   \n",
       "4                      0             2.0                 1                  0   \n",
       "\n",
       "   Age  Graduated_Yes  Family_Size  Segmentation  \n",
       "0  1.0              0          1.0           3.0  \n",
       "1  2.0              1          0.0           0.0  \n",
       "2  3.0              1          0.0           1.0  \n",
       "3  3.0              1          0.0           1.0  \n",
       "4  2.0              1          1.0           0.0  "
      ]
     },
     "execution_count": 21,
     "metadata": {},
     "output_type": "execute_result"
    }
   ],
   "source": [
    "df_new = df_new[[\"Profession_Healthcare\",\"Spending_Score\",\"Ever_Married_Yes\",\"Profession_Lawyer\",\"Age\",\"Graduated_Yes\",\"Family_Size\",\"Segmentation\"]]\n",
    "df_new.head(5)"
   ]
  },
  {
   "cell_type": "markdown",
   "id": "49815fde",
   "metadata": {
    "ExecuteTime": {
     "end_time": "2022-03-14T15:56:34.366469Z",
     "start_time": "2022-03-14T15:56:34.358471Z"
    }
   },
   "source": [
    "## División del dataset en datos de entrenamiento y datos de test "
   ]
  },
  {
   "cell_type": "code",
   "execution_count": 51,
   "id": "6f26d21e",
   "metadata": {},
   "outputs": [],
   "source": [
    "#Código que realice la división en entrenamiento y test, de acuerdo con la estretgia de evaluación planeada. Describa cuál es."
   ]
  },
  {
   "cell_type": "code",
   "execution_count": 22,
   "id": "eb2e8d0c",
   "metadata": {},
   "outputs": [],
   "source": [
    "from sklearn.model_selection import train_test_split, cross_val_score"
   ]
  },
  {
   "cell_type": "code",
   "execution_count": 23,
   "id": "ff7c7d39",
   "metadata": {},
   "outputs": [],
   "source": [
    "X = df_new[df_new.columns[:-1]]\n",
    "y = df_new[\"Segmentation\"]"
   ]
  },
  {
   "cell_type": "code",
   "execution_count": 24,
   "id": "9949af25",
   "metadata": {},
   "outputs": [],
   "source": [
    "X_train, X_test, y_train, y_test = train_test_split(X, y, test_size = 0.3, random_state = 1)"
   ]
  },
  {
   "cell_type": "markdown",
   "id": "8b189911",
   "metadata": {},
   "source": [
    "## Propuesta de arquitectura de red neuronal"
   ]
  },
  {
   "cell_type": "markdown",
   "id": "f54e4b8d",
   "metadata": {},
   "source": [
    "Describe: \n",
    "\n",
    "+ las neuronas en la capa de entrada \n",
    "+ las capas intermedias – al menos dos – \n",
    "+ capa de salida\n",
    "+ funciones de activación\n",
    "\n",
    "Al menos utiliza relu en algunas de las capas intermedias y utiliza softmax en la capa de salida."
   ]
  },
  {
   "cell_type": "code",
   "execution_count": 25,
   "id": "2eaa0e96",
   "metadata": {},
   "outputs": [
    {
     "ename": "ModuleNotFoundError",
     "evalue": "No module named 'tensorflow'",
     "output_type": "error",
     "traceback": [
      "\u001b[1;31m---------------------------------------------------------------------------\u001b[0m",
      "\u001b[1;31mModuleNotFoundError\u001b[0m                       Traceback (most recent call last)",
      "\u001b[1;32m~\\AppData\\Local\\Temp/ipykernel_12940/3922464405.py\u001b[0m in \u001b[0;36m<module>\u001b[1;34m\u001b[0m\n\u001b[0;32m      1\u001b[0m \u001b[1;31m# Código de la estructuración de la red\u001b[0m\u001b[1;33m\u001b[0m\u001b[1;33m\u001b[0m\u001b[0m\n\u001b[1;32m----> 2\u001b[1;33m \u001b[1;32mimport\u001b[0m \u001b[0mtensorflow\u001b[0m \u001b[1;32mas\u001b[0m \u001b[0mtf\u001b[0m\u001b[1;33m\u001b[0m\u001b[1;33m\u001b[0m\u001b[0m\n\u001b[0m\u001b[0;32m      3\u001b[0m \u001b[1;32mfrom\u001b[0m \u001b[0mtensorflow\u001b[0m \u001b[1;32mimport\u001b[0m \u001b[0mkeras\u001b[0m\u001b[1;33m\u001b[0m\u001b[1;33m\u001b[0m\u001b[0m\n",
      "\u001b[1;31mModuleNotFoundError\u001b[0m: No module named 'tensorflow'"
     ]
    }
   ],
   "source": [
    "# Código de la estructuración de la red\n",
    "import tensorflow as tf\n",
    "from tensorflow import keras"
   ]
  },
  {
   "cell_type": "code",
   "execution_count": null,
   "id": "587d6fed",
   "metadata": {},
   "outputs": [],
   "source": [
    "#Código de la inspección del modelo de red"
   ]
  },
  {
   "cell_type": "markdown",
   "id": "635384f7",
   "metadata": {},
   "source": [
    "##  Ajuste de modelo de Clasificación RNA"
   ]
  },
  {
   "cell_type": "markdown",
   "id": "1c9c3f6c",
   "metadata": {},
   "source": [
    "Mediante Python y utilizando al menos Keras sobre TensorFlow 2.0 (tensorflow.keras), entrena el modelo o modelos de red neuronal escogidos."
   ]
  },
  {
   "cell_type": "code",
   "execution_count": null,
   "id": "44ce37ec",
   "metadata": {},
   "outputs": [],
   "source": [
    "#Código de ajuste y entrenamiento"
   ]
  },
  {
   "cell_type": "markdown",
   "id": "aa4b8461",
   "metadata": {},
   "source": [
    "## Evaluación de modelo RNA\n",
    "\n",
    "Defina las estadísticas (métricas) de evaluación, y dividiendo el dataset en datos de entrenamiento, validación y datos de test prueba tu propuesta.\n"
   ]
  },
  {
   "cell_type": "markdown",
   "id": "5a2831ee",
   "metadata": {},
   "source": [
    "### Visualice el progreso de entrenamiento del modelo y muestre las estadísticas de evaluación para los conjuntos de entrenamiento y validación.  "
   ]
  },
  {
   "cell_type": "code",
   "execution_count": null,
   "id": "35b33294",
   "metadata": {},
   "outputs": [],
   "source": [
    "#Código de evaluación de la red propuesta (entrenamiento y validación)"
   ]
  },
  {
   "cell_type": "markdown",
   "id": "c4646184",
   "metadata": {},
   "source": [
    "### Evalúe los resultados  para el conjunto de test."
   ]
  },
  {
   "cell_type": "code",
   "execution_count": 2,
   "id": "fc60e202",
   "metadata": {
    "ExecuteTime": {
     "end_time": "2022-04-25T07:15:41.472314Z",
     "start_time": "2022-04-25T07:15:41.465313Z"
    }
   },
   "outputs": [],
   "source": [
    "#Código de evaluación de la red propuesta (evaluación conjunto de test)"
   ]
  },
  {
   "cell_type": "markdown",
   "id": "99feaa39",
   "metadata": {},
   "source": [
    "## Ajuste de modelos de clasificación alternativos"
   ]
  },
  {
   "cell_type": "markdown",
   "id": "d552bc64",
   "metadata": {},
   "source": [
    "Elige al menos un método de clasificación no basado en redes neuronales (p.ej. regresión logística, árboles de decisión, reglas de clasificación, random forest, SVM, etc)."
   ]
  },
  {
   "cell_type": "code",
   "execution_count": 64,
   "id": "d5d2b2c6",
   "metadata": {},
   "outputs": [],
   "source": [
    "from sklearn import tree\n",
    "from sklearn.ensemble import RandomForestClassifier\n",
    "from sklearn.metrics import confusion_matrix"
   ]
  },
  {
   "cell_type": "code",
   "execution_count": 71,
   "id": "04021993",
   "metadata": {},
   "outputs": [
    {
     "data": {
      "text/plain": [
       "DecisionTreeClassifier(criterion='entropy', max_depth=8, random_state=1)"
      ]
     },
     "execution_count": 71,
     "metadata": {},
     "output_type": "execute_result"
    }
   ],
   "source": [
    "#Código de ajuste del modelo de clasificación 1\n",
    "model_arbol = tree.DecisionTreeClassifier(max_depth = 8, criterion = \"entropy\", random_state = 1)\n",
    "model_arbol.fit(X,y)"
   ]
  },
  {
   "cell_type": "code",
   "execution_count": 72,
   "id": "daf3d8e5",
   "metadata": {},
   "outputs": [],
   "source": [
    "y_arbol = model_arbol.predict(X_test)"
   ]
  },
  {
   "cell_type": "code",
   "execution_count": 73,
   "id": "91b10fac",
   "metadata": {},
   "outputs": [
    {
     "data": {
      "image/png": "[encoded data removed]",
      "text/plain": [
       "<Figure size 360x360 with 1 Axes>"
      ]
     },
     "metadata": {},
     "output_type": "display_data"
    }
   ],
   "source": [
    "#Código para mostrar la evaluación del modelo de clasificación 1\n",
    "mlp_matrix = confusion_matrix(y_test,y_arbol)\n",
    "plt.figure(figsize=(5,5))\n",
    "sns.set(font_scale=1.4)\n",
    "sns.heatmap(mlp_matrix,annot=True, cbar=False, cmap=plt.cm.Blues,linewidth=0.5,fmt=\"d\")\n",
    "plt.ylabel('Valor real')\n",
    "plt.xlabel('Valor predicho')\n",
    "plt.title('Matriz de confusión - Árbol de Decisión');"
   ]
  },
  {
   "cell_type": "code",
   "execution_count": 74,
   "id": "33f5be2a",
   "metadata": {
    "ExecuteTime": {
     "end_time": "2022-04-25T07:21:39.020596Z",
     "start_time": "2022-04-25T07:21:39.005596Z"
    }
   },
   "outputs": [
    {
     "data": {
      "text/plain": [
       "RandomForestClassifier(n_estimators=10, random_state=1)"
      ]
     },
     "execution_count": 74,
     "metadata": {},
     "output_type": "execute_result"
    }
   ],
   "source": [
    "#Código de ajuste del modelo 2\n",
    "model_random = RandomForestClassifier(n_estimators = 10, random_state = 1)\n",
    "model_random.fit(X,y)"
   ]
  },
  {
   "cell_type": "code",
   "execution_count": 75,
   "id": "a2e675b3",
   "metadata": {},
   "outputs": [],
   "source": [
    "#Código para mostrar ly_random = model_random.predict(X_test)a evaluación de los modelos\n",
    "y_random = model_random.predict(X_test)"
   ]
  },
  {
   "cell_type": "code",
   "execution_count": 76,
   "id": "db36c489",
   "metadata": {},
   "outputs": [
    {
     "data": {
      "image/png": "[encoded data removed]",
      "text/plain": [
       "<Figure size 360x360 with 1 Axes>"
      ]
     },
     "metadata": {},
     "output_type": "display_data"
    }
   ],
   "source": [
    "#Código para mostrar la evaluación del modelo de clasificación 1\n",
    "mlp_matrix = confusion_matrix(y_test,y_random)\n",
    "plt.figure(figsize=(5,5))\n",
    "sns.set(font_scale=1.4)\n",
    "sns.heatmap(mlp_matrix,annot=True, cbar=False, cmap=plt.cm.Blues,linewidth=0.5,fmt=\"d\")\n",
    "plt.ylabel('Valor real')\n",
    "plt.xlabel('Valor predicho')\n",
    "plt.title('Matriz de confusión - Árbol de Decisión');"
   ]
  },
  {
   "cell_type": "code",
   "execution_count": 77,
   "id": "e5829db0",
   "metadata": {},
   "outputs": [
    {
     "data": {
      "text/plain": [
       "2421"
      ]
     },
     "execution_count": 77,
     "metadata": {},
     "output_type": "execute_result"
    }
   ],
   "source": [
    "len(y_random)"
   ]
  },
  {
   "cell_type": "markdown",
   "id": "ad219a0c",
   "metadata": {},
   "source": [
    "Construya un o dos párrafos con los principales hallazgos. Incluye una explicación de los parámetros que consideres relevantes en cada ejecución."
   ]
  },
  {
   "cell_type": "markdown",
   "id": "44df4eb5",
   "metadata": {},
   "source": [
    "## Comparación del desempeño de modelos\n",
    "\n",
    "Muestra los resultados obtenidos por los diferentes algoritmos escogidos de forma gráfica y comparada/superpuesta."
   ]
  },
  {
   "cell_type": "code",
   "execution_count": null,
   "id": "fe4acd93",
   "metadata": {},
   "outputs": [],
   "source": [
    "#Código para mostrar la comparación de métricas de desempeño de las dos propuestas en tabla"
   ]
  },
  {
   "cell_type": "code",
   "execution_count": null,
   "id": "1b644946",
   "metadata": {},
   "outputs": [],
   "source": [
    "#Código para mostrar la comparación de métricas de desempeño de las dos propuestas en gráfica"
   ]
  },
  {
   "cell_type": "markdown",
   "id": "f11d5ab4",
   "metadata": {},
   "source": [
    "Construya un párrafo con los principales hallazgos."
   ]
  },
  {
   "cell_type": "markdown",
   "id": "f810fb47",
   "metadata": {
    "ExecuteTime": {
     "end_time": "2022-03-14T16:16:57.134093Z",
     "start_time": "2022-03-14T16:16:57.117129Z"
    }
   },
   "source": [
    "## Discusión de los resultados obtenidos y argumentos sobre cómo se podrían mejorar de dichos resultados"
   ]
  },
  {
   "cell_type": "markdown",
   "id": "c74b3044",
   "metadata": {},
   "source": [
    "Realice en este espacio todo el análsis de resultados final incluyendo: \n",
    "+ Resultados comparados. Conclusiones objetivas y significantes con base a las diferentes métricas escogidas. \n",
    "+ Argumentos que describan con qué técnica se obtienen mejores resultados en base a las diferentes métricas que hayas escogido\n",
    "+ Explicación de cómo se podrían mejorar los resultados obtenidos por las redes neuronales, independientemente de que mejoren o no a los algoritmos no basados en redes neuronales."
   ]
  }
 ],
 "metadata": {
  "kernelspec": {
   "display_name": "Python 3 (ipykernel)",
   "language": "python",
   "name": "python3"
  },
  "language_info": {
   "codemirror_mode": {
    "name": "ipython",
    "version": 3
   },
   "file_extension": ".py",
   "mimetype": "text/x-python",
   "name": "python",
   "nbconvert_exporter": "python",
   "pygments_lexer": "ipython3",
   "version": "3.9.7"
  },
  "toc": {
   "base_numbering": 1,
   "nav_menu": {},
   "number_sections": true,
   "sideBar": true,
   "skip_h1_title": true,
   "title_cell": "Tabla de Contenido",
   "title_sidebar": "Contenido",
   "toc_cell": false,
   "toc_position": {
    "height": "calc(100% - 180px)",
    "left": "10px",
    "top": "150px",
    "width": "263.591px"
   },
   "toc_section_display": true,
   "toc_window_display": true
  }
 },
 "nbformat": 4,
 "nbformat_minor": 5
}
