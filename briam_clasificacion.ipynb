{
  "cells": [
    {
      "cell_type": "markdown",
      "id": "9bcd7ac0",
      "metadata": {
        "id": "9bcd7ac0"
      },
      "source": [
        "<img src=\"https://www.unir.net/wp-content/uploads/2019/11/Unir_2021_logo.svg\" width=\"240\" height=\"240\" align=\"right\"/>"
      ]
    },
    {
      "cell_type": "markdown",
      "id": "8b6f603c",
      "metadata": {
        "id": "8b6f603c"
      },
      "source": [
        "<center><h1>Técnicas de Inteligencia Artificial</header1></center>\n",
        "<left><h1>Actividad 2. Trabajando con redes neuronales y Deep Learning</header1></left>"
      ]
    },
    {
      "cell_type": "markdown",
      "id": "3eb1aaac",
      "metadata": {
        "id": "3eb1aaac"
      },
      "source": [
        "Presentado por: Briam Pavel Aguirre Moisés  <br>\n",
        "Fecha: 28/05/2023"
      ]
    },
    {
      "cell_type": "markdown",
      "id": "1dec299b",
      "metadata": {
        "ExecuteTime": {
          "end_time": "2022-03-14T15:14:04.930713Z",
          "start_time": "2022-03-14T15:14:04.921682Z"
        },
        "id": "1dec299b"
      },
      "source": [
        "# Importación de librerias necesarias"
      ]
    },
    {
      "cell_type": "code",
      "execution_count": 23,
      "id": "1ee5665c",
      "metadata": {
        "id": "1ee5665c"
      },
      "outputs": [],
      "source": [
        "import pandas as pd\n",
        "import numpy as np\n",
        "import seaborn as sns\n",
        "import matplotlib.pyplot as plt\n",
        "import os "
      ]
    },
    {
      "cell_type": "markdown",
      "id": "62f9424f",
      "metadata": {
        "id": "62f9424f"
      },
      "source": [
        "# Parte II. Clasificación"
      ]
    },
    {
      "cell_type": "markdown",
      "id": "6a44b924",
      "metadata": {
        "id": "6a44b924"
      },
      "source": [
        "## Cargar el Dataset\n",
        "\n",
        "Con al menos 1000 instancias, una variable/atributo de la salida, y que dependa de, al menos, 6 variables/atributos de entrada. "
      ]
    },
    {
      "cell_type": "code",
      "execution_count": 24,
      "id": "3541e808",
      "metadata": {
        "id": "3541e808"
      },
      "outputs": [],
      "source": [
        "#Código para cargar el Dataset\n",
        "#url = 'https://raw.githubusercontent.com/oscar-unir/TIA/main/datasets/car/Laboratorio_dataset_car.csv'\n",
        "df = pd.read_csv(\"train.csv\")"
      ]
    },
    {
      "cell_type": "markdown",
      "id": "c251c248",
      "metadata": {
        "id": "c251c248"
      },
      "source": [
        "## Descripción de la fuente del Dataset"
      ]
    },
    {
      "cell_type": "markdown",
      "id": "618fdfc1",
      "metadata": {
        "id": "618fdfc1"
      },
      "source": [
        "La fuente de datos fue extraída del siguiente sitio web:\n",
        "https://www.kaggle.com/datasets/kaushiksuresh147/customer-segmentation "
      ]
    },
    {
      "cell_type": "markdown",
      "id": "7f868eab",
      "metadata": {
        "id": "7f868eab"
      },
      "source": [
        "## Explique el problema a resolver. \n",
        "Descripción del problema. Tipo de problema (justifique). Variable objetivo, variables de entrada. Utilidad de su posible solución. Elementos adicionales que considere relevantes (no son necesarios contenidos teóricos, sino explicar qué relaciones tratas de comprobar y con qué métodos)."
      ]
    },
    {
      "cell_type": "markdown",
      "source": [
        "**Descripción del problema:** En este caso el equipo de ventas de una empresa de automóviles ha clasificado a sus clientes en cinco segmentos. La empresa quiere ingresar nuevos productos al mercado y en base a una investigación han deducido que el mercado se mantiene. Han identificado nuevos clientes potenciales y quieren clasificarlos.\n",
        "\n",
        "**Tipo de problema:** Problema de clasificación.\n",
        "\n",
        "**Variable objetivo:** Segmentation.\n",
        "\n",
        "**Variables de entrada:** ID, Gender, Ever_Married, Age, Graduated, Profession, Work Experience, Spending Score, Family Size, Var_1.\n",
        "\n",
        "**Utilidad de la solución:** El modelo podrá clasificar a los nuevos clientes potenciales entre los segmentos A,B,C,D,E."
      ],
      "metadata": {
        "id": "XMmx_mdAzbnC"
      },
      "id": "XMmx_mdAzbnC"
    },
    {
      "cell_type": "markdown",
      "id": "a0b719c1",
      "metadata": {
        "id": "a0b719c1"
      },
      "source": [
        "## Caracterización del Dataset\n",
        "\n",
        "Realice una descripción de los datos con:\n",
        "\n",
        ">- Número de instancias en total.\n",
        ">- Número de atributos de entrada, su significado y tipo.\n",
        ">- Número de clases de la variable objetivo, indicando que representan dichas clases y el tipo de valor que toman.\n",
        ">- Número de instancias pertenecientes a cada clase en la variable objetivo.\n",
        ">- Estadísticas de la variable objetivo.\n",
        ">- Estadísticas los atributos en relación con la variable objetivo.\n",
        "\n",
        "Se incorporá una pequeña descripción (EDA) del conjunto de datos utilizado. Se analiza el dataset proporcionando, se muestra al menos algunas de sus características mediante tablas y al menos algunas de ellas en modo gráfico (p.ej., histogramas, diagramas de dispersión, diagramas de cajas y bigotes, etc.)\n"
      ]
    },
    {
      "cell_type": "code",
      "execution_count": 25,
      "id": "f34297c2",
      "metadata": {
        "colab": {
          "base_uri": "https://localhost:8080/"
        },
        "id": "f34297c2",
        "outputId": "4dd0af12-93ca-4f88-948b-a132d70d092d"
      },
      "outputs": [
        {
          "output_type": "execute_result",
          "data": {
            "text/plain": [
              "8068"
            ]
          },
          "metadata": {},
          "execution_count": 25
        }
      ],
      "source": [
        "# Número de instancias en total\n",
        "df.shape[0]"
      ]
    },
    {
      "cell_type": "markdown",
      "id": "efaac224",
      "metadata": {
        "id": "efaac224"
      },
      "source": [
        "**Número de instancias en total** Se tiene un total de 8068 instancias"
      ]
    },
    {
      "cell_type": "code",
      "execution_count": 26,
      "id": "618d83d3",
      "metadata": {
        "colab": {
          "base_uri": "https://localhost:8080/"
        },
        "id": "618d83d3",
        "outputId": "2afeb358-3101-42d2-a963-a5bb3fc06455"
      },
      "outputs": [
        {
          "output_type": "execute_result",
          "data": {
            "text/plain": [
              "11"
            ]
          },
          "metadata": {},
          "execution_count": 26
        }
      ],
      "source": [
        "# Número de atributos de entrada\n",
        "df.shape[1]-1"
      ]
    },
    {
      "cell_type": "markdown",
      "id": "34fe60ef",
      "metadata": {
        "id": "34fe60ef"
      },
      "source": [
        "**Número de atributos de entrada** Son 11 atributos de entrada, se detalla a continuación su significado y tipo\n",
        "\n",
        "- **ID:** Código único (Categórica nominal).\n",
        "- **Gender:** Género (Categórica nominal).\n",
        "- **Ever_Married:** Estado matrimonial (Categórica nominal).\n",
        "- **Age:** Edad (Numérica continua).\n",
        "- **Graduated:** Graduado o no (Categórica nominal).\n",
        "- **Profession:** Profesión (Categórica nominal).\n",
        "- **Work Experience:** Experiencia trabajando en años (Numérica discreta).\n",
        "- **Spending Score:** Puntaje de gasto (Categórica ordinal).\n",
        "- **Family Size:** Cantidad de miembros en la familia (Numérica discreta).\n",
        "- **Var_1:** Categoría anónima (Categórica nominal)."
      ]
    },
    {
      "cell_type": "code",
      "execution_count": 27,
      "id": "270b2257",
      "metadata": {
        "colab": {
          "base_uri": "https://localhost:8080/"
        },
        "id": "270b2257",
        "outputId": "0ad796ad-9a36-4e72-991d-ab77df5fd22b"
      },
      "outputs": [
        {
          "output_type": "execute_result",
          "data": {
            "text/plain": [
              "array(['D', 'A', 'B', 'C', 'E'], dtype=object)"
            ]
          },
          "metadata": {},
          "execution_count": 27
        }
      ],
      "source": [
        "# Número de clases de la variable objetivo\n",
        "df[\"Segmentation\"].unique()"
      ]
    },
    {
      "cell_type": "markdown",
      "id": "83dc1ffc",
      "metadata": {
        "id": "83dc1ffc"
      },
      "source": [
        "**Número de clases del target:** Existen cinco clases en la variable Segmentación, cada clase representa una segmentación distinta y el valor que toma es de tipo categórico."
      ]
    },
    {
      "cell_type": "code",
      "execution_count": 28,
      "id": "305b667b",
      "metadata": {
        "colab": {
          "base_uri": "https://localhost:8080/"
        },
        "id": "305b667b",
        "outputId": "20c5b6e2-b260-4b90-bc8c-27844f63c7fa"
      },
      "outputs": [
        {
          "output_type": "execute_result",
          "data": {
            "text/plain": [
              "C    1970\n",
              "B    1858\n",
              "D    1617\n",
              "A    1418\n",
              "E    1205\n",
              "Name: Segmentation, dtype: int64"
            ]
          },
          "metadata": {},
          "execution_count": 28
        }
      ],
      "source": [
        "# Número de instancias pertenecientes a cada clase en el target\n",
        "pd.value_counts(df[\"Segmentation\"])"
      ]
    },
    {
      "cell_type": "markdown",
      "id": "18f7aaba",
      "metadata": {
        "id": "18f7aaba"
      },
      "source": [
        "**Número de instancias pertenecientes al target:** Se muestra la cantidad de instancias por clase del target, siendo la segmentación C la que más instancias tiene y la E la de menor. "
      ]
    },
    {
      "cell_type": "code",
      "execution_count": 29,
      "id": "1cb718dc",
      "metadata": {
        "id": "1cb718dc",
        "colab": {
          "base_uri": "https://localhost:8080/",
          "height": 292
        },
        "outputId": "b840e59f-2d13-44ae-b060-08a7a6312fa0"
      },
      "outputs": [
        {
          "output_type": "stream",
          "name": "stderr",
          "text": [
            "<ipython-input-29-9d1967c31d33>:2: FutureWarning: pivot_table dropped a column because it failed to aggregate. This behavior is deprecated and will raise in a future version of pandas. Select only the columns that can be aggregated.\n",
            "  pd.pivot_table(df, index = \"Segmentation\", aggfunc = \"mean\")\n"
          ]
        },
        {
          "output_type": "execute_result",
          "data": {
            "text/plain": [
              "                    Age  Family_Size             ID   Unnamed: 0  \\\n",
              "Segmentation                                                       \n",
              "A             36.282087     2.540839  463535.481664  3942.080395   \n",
              "B             48.200215     2.696970  463520.253498  4070.311625   \n",
              "C             49.144162     2.974559  463576.043655  4081.951269   \n",
              "D             25.490414     3.586755  463472.103896  4035.824985   \n",
              "E             59.464730     2.268032  463200.963485  4001.988382   \n",
              "\n",
              "              Work_Experience  \n",
              "Segmentation                   \n",
              "A                    3.354988  \n",
              "B                    2.378151  \n",
              "C                    2.240771  \n",
              "D                    3.101541  \n",
              "E                    2.243973  "
            ],
            "text/html": [
              "\n",
              "  <div id=\"df-fce78a29-4943-480e-88e9-7f24f23b34e5\">\n",
              "    <div class=\"colab-df-container\">\n",
              "      <div>\n",
              "<style scoped>\n",
              "    .dataframe tbody tr th:only-of-type {\n",
              "        vertical-align: middle;\n",
              "    }\n",
              "\n",
              "    .dataframe tbody tr th {\n",
              "        vertical-align: top;\n",
              "    }\n",
              "\n",
              "    .dataframe thead th {\n",
              "        text-align: right;\n",
              "    }\n",
              "</style>\n",
              "<table border=\"1\" class=\"dataframe\">\n",
              "  <thead>\n",
              "    <tr style=\"text-align: right;\">\n",
              "      <th></th>\n",
              "      <th>Age</th>\n",
              "      <th>Family_Size</th>\n",
              "      <th>ID</th>\n",
              "      <th>Unnamed: 0</th>\n",
              "      <th>Work_Experience</th>\n",
              "    </tr>\n",
              "    <tr>\n",
              "      <th>Segmentation</th>\n",
              "      <th></th>\n",
              "      <th></th>\n",
              "      <th></th>\n",
              "      <th></th>\n",
              "      <th></th>\n",
              "    </tr>\n",
              "  </thead>\n",
              "  <tbody>\n",
              "    <tr>\n",
              "      <th>A</th>\n",
              "      <td>36.282087</td>\n",
              "      <td>2.540839</td>\n",
              "      <td>463535.481664</td>\n",
              "      <td>3942.080395</td>\n",
              "      <td>3.354988</td>\n",
              "    </tr>\n",
              "    <tr>\n",
              "      <th>B</th>\n",
              "      <td>48.200215</td>\n",
              "      <td>2.696970</td>\n",
              "      <td>463520.253498</td>\n",
              "      <td>4070.311625</td>\n",
              "      <td>2.378151</td>\n",
              "    </tr>\n",
              "    <tr>\n",
              "      <th>C</th>\n",
              "      <td>49.144162</td>\n",
              "      <td>2.974559</td>\n",
              "      <td>463576.043655</td>\n",
              "      <td>4081.951269</td>\n",
              "      <td>2.240771</td>\n",
              "    </tr>\n",
              "    <tr>\n",
              "      <th>D</th>\n",
              "      <td>25.490414</td>\n",
              "      <td>3.586755</td>\n",
              "      <td>463472.103896</td>\n",
              "      <td>4035.824985</td>\n",
              "      <td>3.101541</td>\n",
              "    </tr>\n",
              "    <tr>\n",
              "      <th>E</th>\n",
              "      <td>59.464730</td>\n",
              "      <td>2.268032</td>\n",
              "      <td>463200.963485</td>\n",
              "      <td>4001.988382</td>\n",
              "      <td>2.243973</td>\n",
              "    </tr>\n",
              "  </tbody>\n",
              "</table>\n",
              "</div>\n",
              "      <button class=\"colab-df-convert\" onclick=\"convertToInteractive('df-fce78a29-4943-480e-88e9-7f24f23b34e5')\"\n",
              "              title=\"Convert this dataframe to an interactive table.\"\n",
              "              style=\"display:none;\">\n",
              "        \n",
              "  <svg xmlns=\"http://www.w3.org/2000/svg\" height=\"24px\"viewBox=\"0 0 24 24\"\n",
              "       width=\"24px\">\n",
              "    <path d=\"M0 0h24v24H0V0z\" fill=\"none\"/>\n",
              "    <path d=\"M18.56 5.44l.94 2.06.94-2.06 2.06-.94-2.06-.94-.94-2.06-.94 2.06-2.06.94zm-11 1L8.5 8.5l.94-2.06 2.06-.94-2.06-.94L8.5 2.5l-.94 2.06-2.06.94zm10 10l.94 2.06.94-2.06 2.06-.94-2.06-.94-.94-2.06-.94 2.06-2.06.94z\"/><path d=\"M17.41 7.96l-1.37-1.37c-.4-.4-.92-.59-1.43-.59-.52 0-1.04.2-1.43.59L10.3 9.45l-7.72 7.72c-.78.78-.78 2.05 0 2.83L4 21.41c.39.39.9.59 1.41.59.51 0 1.02-.2 1.41-.59l7.78-7.78 2.81-2.81c.8-.78.8-2.07 0-2.86zM5.41 20L4 18.59l7.72-7.72 1.47 1.35L5.41 20z\"/>\n",
              "  </svg>\n",
              "      </button>\n",
              "      \n",
              "  <style>\n",
              "    .colab-df-container {\n",
              "      display:flex;\n",
              "      flex-wrap:wrap;\n",
              "      gap: 12px;\n",
              "    }\n",
              "\n",
              "    .colab-df-convert {\n",
              "      background-color: #E8F0FE;\n",
              "      border: none;\n",
              "      border-radius: 50%;\n",
              "      cursor: pointer;\n",
              "      display: none;\n",
              "      fill: #1967D2;\n",
              "      height: 32px;\n",
              "      padding: 0 0 0 0;\n",
              "      width: 32px;\n",
              "    }\n",
              "\n",
              "    .colab-df-convert:hover {\n",
              "      background-color: #E2EBFA;\n",
              "      box-shadow: 0px 1px 2px rgba(60, 64, 67, 0.3), 0px 1px 3px 1px rgba(60, 64, 67, 0.15);\n",
              "      fill: #174EA6;\n",
              "    }\n",
              "\n",
              "    [theme=dark] .colab-df-convert {\n",
              "      background-color: #3B4455;\n",
              "      fill: #D2E3FC;\n",
              "    }\n",
              "\n",
              "    [theme=dark] .colab-df-convert:hover {\n",
              "      background-color: #434B5C;\n",
              "      box-shadow: 0px 1px 3px 1px rgba(0, 0, 0, 0.15);\n",
              "      filter: drop-shadow(0px 1px 2px rgba(0, 0, 0, 0.3));\n",
              "      fill: #FFFFFF;\n",
              "    }\n",
              "  </style>\n",
              "\n",
              "      <script>\n",
              "        const buttonEl =\n",
              "          document.querySelector('#df-fce78a29-4943-480e-88e9-7f24f23b34e5 button.colab-df-convert');\n",
              "        buttonEl.style.display =\n",
              "          google.colab.kernel.accessAllowed ? 'block' : 'none';\n",
              "\n",
              "        async function convertToInteractive(key) {\n",
              "          const element = document.querySelector('#df-fce78a29-4943-480e-88e9-7f24f23b34e5');\n",
              "          const dataTable =\n",
              "            await google.colab.kernel.invokeFunction('convertToInteractive',\n",
              "                                                     [key], {});\n",
              "          if (!dataTable) return;\n",
              "\n",
              "          const docLinkHtml = 'Like what you see? Visit the ' +\n",
              "            '<a target=\"_blank\" href=https://colab.research.google.com/notebooks/data_table.ipynb>data table notebook</a>'\n",
              "            + ' to learn more about interactive tables.';\n",
              "          element.innerHTML = '';\n",
              "          dataTable['output_type'] = 'display_data';\n",
              "          await google.colab.output.renderOutput(dataTable, element);\n",
              "          const docLink = document.createElement('div');\n",
              "          docLink.innerHTML = docLinkHtml;\n",
              "          element.appendChild(docLink);\n",
              "        }\n",
              "      </script>\n",
              "    </div>\n",
              "  </div>\n",
              "  "
            ]
          },
          "metadata": {},
          "execution_count": 29
        }
      ],
      "source": [
        "# Estadísticas de los atributos en relación con la variable objetivo\n",
        "pd.pivot_table(df, index = \"Segmentation\", aggfunc = \"mean\")"
      ]
    },
    {
      "cell_type": "code",
      "source": [
        "pd.pivot_table(df, index = \"Segmentation\", aggfunc = lambda x: x.mode().iat[0])"
      ],
      "metadata": {
        "colab": {
          "base_uri": "https://localhost:8080/",
          "height": 319
        },
        "id": "wDLY6CM20-0u",
        "outputId": "df457855-2cb5-4337-9ef4-cf68baff2a2b"
      },
      "id": "wDLY6CM20-0u",
      "execution_count": 30,
      "outputs": [
        {
          "output_type": "execute_result",
          "data": {
            "text/plain": [
              "              Age Ever_Married  Family_Size Gender Graduated      ID  \\\n",
              "Segmentation                                                           \n",
              "A              35           No          2.0   Male       Yes  458993   \n",
              "B              43          Yes          2.0   Male       Yes  458989   \n",
              "C              50          Yes          2.0   Male       Yes  458982   \n",
              "D              22           No          4.0   Male        No  458985   \n",
              "E              53          Yes          1.0   Male       Yes  458990   \n",
              "\n",
              "              Profession Spending_Score  Unnamed: 0  Var_1  Work_Experience  \n",
              "Segmentation                                                                 \n",
              "A                 Artist            Low           1  Cat_6              0.0  \n",
              "B                 Artist            Low           2  Cat_6              1.0  \n",
              "C                 Artist        Average           5  Cat_6              1.0  \n",
              "D             Healthcare            Low           0  Cat_6              0.0  \n",
              "E                 Lawyer            Low           8  Cat_6              1.0  "
            ],
            "text/html": [
              "\n",
              "  <div id=\"df-a769f1d0-6167-49b5-9883-bba3825fc289\">\n",
              "    <div class=\"colab-df-container\">\n",
              "      <div>\n",
              "<style scoped>\n",
              "    .dataframe tbody tr th:only-of-type {\n",
              "        vertical-align: middle;\n",
              "    }\n",
              "\n",
              "    .dataframe tbody tr th {\n",
              "        vertical-align: top;\n",
              "    }\n",
              "\n",
              "    .dataframe thead th {\n",
              "        text-align: right;\n",
              "    }\n",
              "</style>\n",
              "<table border=\"1\" class=\"dataframe\">\n",
              "  <thead>\n",
              "    <tr style=\"text-align: right;\">\n",
              "      <th></th>\n",
              "      <th>Age</th>\n",
              "      <th>Ever_Married</th>\n",
              "      <th>Family_Size</th>\n",
              "      <th>Gender</th>\n",
              "      <th>Graduated</th>\n",
              "      <th>ID</th>\n",
              "      <th>Profession</th>\n",
              "      <th>Spending_Score</th>\n",
              "      <th>Unnamed: 0</th>\n",
              "      <th>Var_1</th>\n",
              "      <th>Work_Experience</th>\n",
              "    </tr>\n",
              "    <tr>\n",
              "      <th>Segmentation</th>\n",
              "      <th></th>\n",
              "      <th></th>\n",
              "      <th></th>\n",
              "      <th></th>\n",
              "      <th></th>\n",
              "      <th></th>\n",
              "      <th></th>\n",
              "      <th></th>\n",
              "      <th></th>\n",
              "      <th></th>\n",
              "      <th></th>\n",
              "    </tr>\n",
              "  </thead>\n",
              "  <tbody>\n",
              "    <tr>\n",
              "      <th>A</th>\n",
              "      <td>35</td>\n",
              "      <td>No</td>\n",
              "      <td>2.0</td>\n",
              "      <td>Male</td>\n",
              "      <td>Yes</td>\n",
              "      <td>458993</td>\n",
              "      <td>Artist</td>\n",
              "      <td>Low</td>\n",
              "      <td>1</td>\n",
              "      <td>Cat_6</td>\n",
              "      <td>0.0</td>\n",
              "    </tr>\n",
              "    <tr>\n",
              "      <th>B</th>\n",
              "      <td>43</td>\n",
              "      <td>Yes</td>\n",
              "      <td>2.0</td>\n",
              "      <td>Male</td>\n",
              "      <td>Yes</td>\n",
              "      <td>458989</td>\n",
              "      <td>Artist</td>\n",
              "      <td>Low</td>\n",
              "      <td>2</td>\n",
              "      <td>Cat_6</td>\n",
              "      <td>1.0</td>\n",
              "    </tr>\n",
              "    <tr>\n",
              "      <th>C</th>\n",
              "      <td>50</td>\n",
              "      <td>Yes</td>\n",
              "      <td>2.0</td>\n",
              "      <td>Male</td>\n",
              "      <td>Yes</td>\n",
              "      <td>458982</td>\n",
              "      <td>Artist</td>\n",
              "      <td>Average</td>\n",
              "      <td>5</td>\n",
              "      <td>Cat_6</td>\n",
              "      <td>1.0</td>\n",
              "    </tr>\n",
              "    <tr>\n",
              "      <th>D</th>\n",
              "      <td>22</td>\n",
              "      <td>No</td>\n",
              "      <td>4.0</td>\n",
              "      <td>Male</td>\n",
              "      <td>No</td>\n",
              "      <td>458985</td>\n",
              "      <td>Healthcare</td>\n",
              "      <td>Low</td>\n",
              "      <td>0</td>\n",
              "      <td>Cat_6</td>\n",
              "      <td>0.0</td>\n",
              "    </tr>\n",
              "    <tr>\n",
              "      <th>E</th>\n",
              "      <td>53</td>\n",
              "      <td>Yes</td>\n",
              "      <td>1.0</td>\n",
              "      <td>Male</td>\n",
              "      <td>Yes</td>\n",
              "      <td>458990</td>\n",
              "      <td>Lawyer</td>\n",
              "      <td>Low</td>\n",
              "      <td>8</td>\n",
              "      <td>Cat_6</td>\n",
              "      <td>1.0</td>\n",
              "    </tr>\n",
              "  </tbody>\n",
              "</table>\n",
              "</div>\n",
              "      <button class=\"colab-df-convert\" onclick=\"convertToInteractive('df-a769f1d0-6167-49b5-9883-bba3825fc289')\"\n",
              "              title=\"Convert this dataframe to an interactive table.\"\n",
              "              style=\"display:none;\">\n",
              "        \n",
              "  <svg xmlns=\"http://www.w3.org/2000/svg\" height=\"24px\"viewBox=\"0 0 24 24\"\n",
              "       width=\"24px\">\n",
              "    <path d=\"M0 0h24v24H0V0z\" fill=\"none\"/>\n",
              "    <path d=\"M18.56 5.44l.94 2.06.94-2.06 2.06-.94-2.06-.94-.94-2.06-.94 2.06-2.06.94zm-11 1L8.5 8.5l.94-2.06 2.06-.94-2.06-.94L8.5 2.5l-.94 2.06-2.06.94zm10 10l.94 2.06.94-2.06 2.06-.94-2.06-.94-.94-2.06-.94 2.06-2.06.94z\"/><path d=\"M17.41 7.96l-1.37-1.37c-.4-.4-.92-.59-1.43-.59-.52 0-1.04.2-1.43.59L10.3 9.45l-7.72 7.72c-.78.78-.78 2.05 0 2.83L4 21.41c.39.39.9.59 1.41.59.51 0 1.02-.2 1.41-.59l7.78-7.78 2.81-2.81c.8-.78.8-2.07 0-2.86zM5.41 20L4 18.59l7.72-7.72 1.47 1.35L5.41 20z\"/>\n",
              "  </svg>\n",
              "      </button>\n",
              "      \n",
              "  <style>\n",
              "    .colab-df-container {\n",
              "      display:flex;\n",
              "      flex-wrap:wrap;\n",
              "      gap: 12px;\n",
              "    }\n",
              "\n",
              "    .colab-df-convert {\n",
              "      background-color: #E8F0FE;\n",
              "      border: none;\n",
              "      border-radius: 50%;\n",
              "      cursor: pointer;\n",
              "      display: none;\n",
              "      fill: #1967D2;\n",
              "      height: 32px;\n",
              "      padding: 0 0 0 0;\n",
              "      width: 32px;\n",
              "    }\n",
              "\n",
              "    .colab-df-convert:hover {\n",
              "      background-color: #E2EBFA;\n",
              "      box-shadow: 0px 1px 2px rgba(60, 64, 67, 0.3), 0px 1px 3px 1px rgba(60, 64, 67, 0.15);\n",
              "      fill: #174EA6;\n",
              "    }\n",
              "\n",
              "    [theme=dark] .colab-df-convert {\n",
              "      background-color: #3B4455;\n",
              "      fill: #D2E3FC;\n",
              "    }\n",
              "\n",
              "    [theme=dark] .colab-df-convert:hover {\n",
              "      background-color: #434B5C;\n",
              "      box-shadow: 0px 1px 3px 1px rgba(0, 0, 0, 0.15);\n",
              "      filter: drop-shadow(0px 1px 2px rgba(0, 0, 0, 0.3));\n",
              "      fill: #FFFFFF;\n",
              "    }\n",
              "  </style>\n",
              "\n",
              "      <script>\n",
              "        const buttonEl =\n",
              "          document.querySelector('#df-a769f1d0-6167-49b5-9883-bba3825fc289 button.colab-df-convert');\n",
              "        buttonEl.style.display =\n",
              "          google.colab.kernel.accessAllowed ? 'block' : 'none';\n",
              "\n",
              "        async function convertToInteractive(key) {\n",
              "          const element = document.querySelector('#df-a769f1d0-6167-49b5-9883-bba3825fc289');\n",
              "          const dataTable =\n",
              "            await google.colab.kernel.invokeFunction('convertToInteractive',\n",
              "                                                     [key], {});\n",
              "          if (!dataTable) return;\n",
              "\n",
              "          const docLinkHtml = 'Like what you see? Visit the ' +\n",
              "            '<a target=\"_blank\" href=https://colab.research.google.com/notebooks/data_table.ipynb>data table notebook</a>'\n",
              "            + ' to learn more about interactive tables.';\n",
              "          element.innerHTML = '';\n",
              "          dataTable['output_type'] = 'display_data';\n",
              "          await google.colab.output.renderOutput(dataTable, element);\n",
              "          const docLink = document.createElement('div');\n",
              "          docLink.innerHTML = docLinkHtml;\n",
              "          element.appendChild(docLink);\n",
              "        }\n",
              "      </script>\n",
              "    </div>\n",
              "  </div>\n",
              "  "
            ]
          },
          "metadata": {},
          "execution_count": 30
        }
      ]
    },
    {
      "cell_type": "markdown",
      "id": "80163358",
      "metadata": {
        "id": "80163358"
      },
      "source": [
        "**Estadísticas de los atributos en relación a la variable objetivo:** \n",
        "  - Los clientes del segmento E son en promedio los mayores y los del grupo D los menores\n",
        "  - El tamaño de la familia es mayor en el segmento D y menor en el segmento E\n",
        "  - En los primeros tres segmentos la mayoría de los clientes son Artist, en el segmento D son Healthcare y en el segmento E son Lawyer."
      ]
    },
    {
      "cell_type": "markdown",
      "id": "ece5beca",
      "metadata": {
        "ExecuteTime": {
          "end_time": "2022-03-14T15:52:20.156185Z",
          "start_time": "2022-03-14T15:52:20.150187Z"
        },
        "id": "ece5beca"
      },
      "source": [
        "## Preprocesamiento del dataset. Transformaciones previas necesarias para la modelación"
      ]
    },
    {
      "cell_type": "code",
      "execution_count": 31,
      "id": "85c9ad88",
      "metadata": {
        "id": "85c9ad88"
      },
      "outputs": [],
      "source": [
        "#Código que realice las transformaciones necesarias para poder realizar los procesos de modelación. Ej.One hot enconding\n",
        "from sklearn.preprocessing import OrdinalEncoder\n",
        "from sklearn.feature_selection import chi2"
      ]
    },
    {
      "cell_type": "markdown",
      "id": "50eb68ff",
      "metadata": {
        "id": "50eb68ff"
      },
      "source": [
        "Eliminamos de nuesto dataset las variables ID por no contener información relevante y Var_1 por ser una variable desconocida "
      ]
    },
    {
      "cell_type": "code",
      "execution_count": 32,
      "id": "43be9b63",
      "metadata": {
        "colab": {
          "base_uri": "https://localhost:8080/",
          "height": 206
        },
        "id": "43be9b63",
        "outputId": "6392644b-08d0-452e-8d8c-d8594d809387"
      },
      "outputs": [
        {
          "output_type": "execute_result",
          "data": {
            "text/plain": [
              "   Gender Ever_Married  Age Graduated     Profession  Work_Experience  \\\n",
              "0    Male           No   22        No     Healthcare              1.0   \n",
              "1  Female          Yes   38       Yes       Engineer              NaN   \n",
              "2  Female          Yes   67       Yes       Engineer              1.0   \n",
              "3    Male          Yes   67       Yes         Lawyer              0.0   \n",
              "4  Female          Yes   40       Yes  Entertainment              NaN   \n",
              "\n",
              "  Spending_Score  Family_Size Segmentation  \n",
              "0            Low          4.0            D  \n",
              "1        Average          3.0            A  \n",
              "2            Low          1.0            B  \n",
              "3           High          2.0            B  \n",
              "4           High          6.0            A  "
            ],
            "text/html": [
              "\n",
              "  <div id=\"df-3f97a093-7c64-454a-8e28-0246300fa26e\">\n",
              "    <div class=\"colab-df-container\">\n",
              "      <div>\n",
              "<style scoped>\n",
              "    .dataframe tbody tr th:only-of-type {\n",
              "        vertical-align: middle;\n",
              "    }\n",
              "\n",
              "    .dataframe tbody tr th {\n",
              "        vertical-align: top;\n",
              "    }\n",
              "\n",
              "    .dataframe thead th {\n",
              "        text-align: right;\n",
              "    }\n",
              "</style>\n",
              "<table border=\"1\" class=\"dataframe\">\n",
              "  <thead>\n",
              "    <tr style=\"text-align: right;\">\n",
              "      <th></th>\n",
              "      <th>Gender</th>\n",
              "      <th>Ever_Married</th>\n",
              "      <th>Age</th>\n",
              "      <th>Graduated</th>\n",
              "      <th>Profession</th>\n",
              "      <th>Work_Experience</th>\n",
              "      <th>Spending_Score</th>\n",
              "      <th>Family_Size</th>\n",
              "      <th>Segmentation</th>\n",
              "    </tr>\n",
              "  </thead>\n",
              "  <tbody>\n",
              "    <tr>\n",
              "      <th>0</th>\n",
              "      <td>Male</td>\n",
              "      <td>No</td>\n",
              "      <td>22</td>\n",
              "      <td>No</td>\n",
              "      <td>Healthcare</td>\n",
              "      <td>1.0</td>\n",
              "      <td>Low</td>\n",
              "      <td>4.0</td>\n",
              "      <td>D</td>\n",
              "    </tr>\n",
              "    <tr>\n",
              "      <th>1</th>\n",
              "      <td>Female</td>\n",
              "      <td>Yes</td>\n",
              "      <td>38</td>\n",
              "      <td>Yes</td>\n",
              "      <td>Engineer</td>\n",
              "      <td>NaN</td>\n",
              "      <td>Average</td>\n",
              "      <td>3.0</td>\n",
              "      <td>A</td>\n",
              "    </tr>\n",
              "    <tr>\n",
              "      <th>2</th>\n",
              "      <td>Female</td>\n",
              "      <td>Yes</td>\n",
              "      <td>67</td>\n",
              "      <td>Yes</td>\n",
              "      <td>Engineer</td>\n",
              "      <td>1.0</td>\n",
              "      <td>Low</td>\n",
              "      <td>1.0</td>\n",
              "      <td>B</td>\n",
              "    </tr>\n",
              "    <tr>\n",
              "      <th>3</th>\n",
              "      <td>Male</td>\n",
              "      <td>Yes</td>\n",
              "      <td>67</td>\n",
              "      <td>Yes</td>\n",
              "      <td>Lawyer</td>\n",
              "      <td>0.0</td>\n",
              "      <td>High</td>\n",
              "      <td>2.0</td>\n",
              "      <td>B</td>\n",
              "    </tr>\n",
              "    <tr>\n",
              "      <th>4</th>\n",
              "      <td>Female</td>\n",
              "      <td>Yes</td>\n",
              "      <td>40</td>\n",
              "      <td>Yes</td>\n",
              "      <td>Entertainment</td>\n",
              "      <td>NaN</td>\n",
              "      <td>High</td>\n",
              "      <td>6.0</td>\n",
              "      <td>A</td>\n",
              "    </tr>\n",
              "  </tbody>\n",
              "</table>\n",
              "</div>\n",
              "      <button class=\"colab-df-convert\" onclick=\"convertToInteractive('df-3f97a093-7c64-454a-8e28-0246300fa26e')\"\n",
              "              title=\"Convert this dataframe to an interactive table.\"\n",
              "              style=\"display:none;\">\n",
              "        \n",
              "  <svg xmlns=\"http://www.w3.org/2000/svg\" height=\"24px\"viewBox=\"0 0 24 24\"\n",
              "       width=\"24px\">\n",
              "    <path d=\"M0 0h24v24H0V0z\" fill=\"none\"/>\n",
              "    <path d=\"M18.56 5.44l.94 2.06.94-2.06 2.06-.94-2.06-.94-.94-2.06-.94 2.06-2.06.94zm-11 1L8.5 8.5l.94-2.06 2.06-.94-2.06-.94L8.5 2.5l-.94 2.06-2.06.94zm10 10l.94 2.06.94-2.06 2.06-.94-2.06-.94-.94-2.06-.94 2.06-2.06.94z\"/><path d=\"M17.41 7.96l-1.37-1.37c-.4-.4-.92-.59-1.43-.59-.52 0-1.04.2-1.43.59L10.3 9.45l-7.72 7.72c-.78.78-.78 2.05 0 2.83L4 21.41c.39.39.9.59 1.41.59.51 0 1.02-.2 1.41-.59l7.78-7.78 2.81-2.81c.8-.78.8-2.07 0-2.86zM5.41 20L4 18.59l7.72-7.72 1.47 1.35L5.41 20z\"/>\n",
              "  </svg>\n",
              "      </button>\n",
              "      \n",
              "  <style>\n",
              "    .colab-df-container {\n",
              "      display:flex;\n",
              "      flex-wrap:wrap;\n",
              "      gap: 12px;\n",
              "    }\n",
              "\n",
              "    .colab-df-convert {\n",
              "      background-color: #E8F0FE;\n",
              "      border: none;\n",
              "      border-radius: 50%;\n",
              "      cursor: pointer;\n",
              "      display: none;\n",
              "      fill: #1967D2;\n",
              "      height: 32px;\n",
              "      padding: 0 0 0 0;\n",
              "      width: 32px;\n",
              "    }\n",
              "\n",
              "    .colab-df-convert:hover {\n",
              "      background-color: #E2EBFA;\n",
              "      box-shadow: 0px 1px 2px rgba(60, 64, 67, 0.3), 0px 1px 3px 1px rgba(60, 64, 67, 0.15);\n",
              "      fill: #174EA6;\n",
              "    }\n",
              "\n",
              "    [theme=dark] .colab-df-convert {\n",
              "      background-color: #3B4455;\n",
              "      fill: #D2E3FC;\n",
              "    }\n",
              "\n",
              "    [theme=dark] .colab-df-convert:hover {\n",
              "      background-color: #434B5C;\n",
              "      box-shadow: 0px 1px 3px 1px rgba(0, 0, 0, 0.15);\n",
              "      filter: drop-shadow(0px 1px 2px rgba(0, 0, 0, 0.3));\n",
              "      fill: #FFFFFF;\n",
              "    }\n",
              "  </style>\n",
              "\n",
              "      <script>\n",
              "        const buttonEl =\n",
              "          document.querySelector('#df-3f97a093-7c64-454a-8e28-0246300fa26e button.colab-df-convert');\n",
              "        buttonEl.style.display =\n",
              "          google.colab.kernel.accessAllowed ? 'block' : 'none';\n",
              "\n",
              "        async function convertToInteractive(key) {\n",
              "          const element = document.querySelector('#df-3f97a093-7c64-454a-8e28-0246300fa26e');\n",
              "          const dataTable =\n",
              "            await google.colab.kernel.invokeFunction('convertToInteractive',\n",
              "                                                     [key], {});\n",
              "          if (!dataTable) return;\n",
              "\n",
              "          const docLinkHtml = 'Like what you see? Visit the ' +\n",
              "            '<a target=\"_blank\" href=https://colab.research.google.com/notebooks/data_table.ipynb>data table notebook</a>'\n",
              "            + ' to learn more about interactive tables.';\n",
              "          element.innerHTML = '';\n",
              "          dataTable['output_type'] = 'display_data';\n",
              "          await google.colab.output.renderOutput(dataTable, element);\n",
              "          const docLink = document.createElement('div');\n",
              "          docLink.innerHTML = docLinkHtml;\n",
              "          element.appendChild(docLink);\n",
              "        }\n",
              "      </script>\n",
              "    </div>\n",
              "  </div>\n",
              "  "
            ]
          },
          "metadata": {},
          "execution_count": 32
        }
      ],
      "source": [
        "df = df.drop(columns = [\"ID\",\"Var_1\",\"Unnamed: 0\"])\n",
        "df.head(5)"
      ]
    },
    {
      "cell_type": "markdown",
      "id": "978ce8b8",
      "metadata": {
        "id": "978ce8b8"
      },
      "source": [
        "Imputamos los valores missings "
      ]
    },
    {
      "cell_type": "code",
      "execution_count": 33,
      "id": "faa8aa36",
      "metadata": {
        "colab": {
          "base_uri": "https://localhost:8080/",
          "height": 237
        },
        "id": "faa8aa36",
        "outputId": "87895789-e858-4291-f595-0150b24102b9"
      },
      "outputs": [
        {
          "output_type": "execute_result",
          "data": {
            "text/plain": [
              "              Age Ever_Married  Family_Size Gender Graduated  Profession  \\\n",
              "Segmentation                                                               \n",
              "A              35           No          2.0   Male       Yes      Artist   \n",
              "B              43          Yes          2.0   Male       Yes      Artist   \n",
              "C              50          Yes          2.0   Male       Yes      Artist   \n",
              "D              22           No          4.0   Male        No  Healthcare   \n",
              "E              53          Yes          1.0   Male       Yes      Lawyer   \n",
              "\n",
              "             Spending_Score  Work_Experience  \n",
              "Segmentation                                  \n",
              "A                       Low              0.0  \n",
              "B                       Low              1.0  \n",
              "C                   Average              1.0  \n",
              "D                       Low              0.0  \n",
              "E                       Low              1.0  "
            ],
            "text/html": [
              "\n",
              "  <div id=\"df-ead33061-faa5-4477-a21e-d3fcdbbc1a86\">\n",
              "    <div class=\"colab-df-container\">\n",
              "      <div>\n",
              "<style scoped>\n",
              "    .dataframe tbody tr th:only-of-type {\n",
              "        vertical-align: middle;\n",
              "    }\n",
              "\n",
              "    .dataframe tbody tr th {\n",
              "        vertical-align: top;\n",
              "    }\n",
              "\n",
              "    .dataframe thead th {\n",
              "        text-align: right;\n",
              "    }\n",
              "</style>\n",
              "<table border=\"1\" class=\"dataframe\">\n",
              "  <thead>\n",
              "    <tr style=\"text-align: right;\">\n",
              "      <th></th>\n",
              "      <th>Age</th>\n",
              "      <th>Ever_Married</th>\n",
              "      <th>Family_Size</th>\n",
              "      <th>Gender</th>\n",
              "      <th>Graduated</th>\n",
              "      <th>Profession</th>\n",
              "      <th>Spending_Score</th>\n",
              "      <th>Work_Experience</th>\n",
              "    </tr>\n",
              "    <tr>\n",
              "      <th>Segmentation</th>\n",
              "      <th></th>\n",
              "      <th></th>\n",
              "      <th></th>\n",
              "      <th></th>\n",
              "      <th></th>\n",
              "      <th></th>\n",
              "      <th></th>\n",
              "      <th></th>\n",
              "    </tr>\n",
              "  </thead>\n",
              "  <tbody>\n",
              "    <tr>\n",
              "      <th>A</th>\n",
              "      <td>35</td>\n",
              "      <td>No</td>\n",
              "      <td>2.0</td>\n",
              "      <td>Male</td>\n",
              "      <td>Yes</td>\n",
              "      <td>Artist</td>\n",
              "      <td>Low</td>\n",
              "      <td>0.0</td>\n",
              "    </tr>\n",
              "    <tr>\n",
              "      <th>B</th>\n",
              "      <td>43</td>\n",
              "      <td>Yes</td>\n",
              "      <td>2.0</td>\n",
              "      <td>Male</td>\n",
              "      <td>Yes</td>\n",
              "      <td>Artist</td>\n",
              "      <td>Low</td>\n",
              "      <td>1.0</td>\n",
              "    </tr>\n",
              "    <tr>\n",
              "      <th>C</th>\n",
              "      <td>50</td>\n",
              "      <td>Yes</td>\n",
              "      <td>2.0</td>\n",
              "      <td>Male</td>\n",
              "      <td>Yes</td>\n",
              "      <td>Artist</td>\n",
              "      <td>Average</td>\n",
              "      <td>1.0</td>\n",
              "    </tr>\n",
              "    <tr>\n",
              "      <th>D</th>\n",
              "      <td>22</td>\n",
              "      <td>No</td>\n",
              "      <td>4.0</td>\n",
              "      <td>Male</td>\n",
              "      <td>No</td>\n",
              "      <td>Healthcare</td>\n",
              "      <td>Low</td>\n",
              "      <td>0.0</td>\n",
              "    </tr>\n",
              "    <tr>\n",
              "      <th>E</th>\n",
              "      <td>53</td>\n",
              "      <td>Yes</td>\n",
              "      <td>1.0</td>\n",
              "      <td>Male</td>\n",
              "      <td>Yes</td>\n",
              "      <td>Lawyer</td>\n",
              "      <td>Low</td>\n",
              "      <td>1.0</td>\n",
              "    </tr>\n",
              "  </tbody>\n",
              "</table>\n",
              "</div>\n",
              "      <button class=\"colab-df-convert\" onclick=\"convertToInteractive('df-ead33061-faa5-4477-a21e-d3fcdbbc1a86')\"\n",
              "              title=\"Convert this dataframe to an interactive table.\"\n",
              "              style=\"display:none;\">\n",
              "        \n",
              "  <svg xmlns=\"http://www.w3.org/2000/svg\" height=\"24px\"viewBox=\"0 0 24 24\"\n",
              "       width=\"24px\">\n",
              "    <path d=\"M0 0h24v24H0V0z\" fill=\"none\"/>\n",
              "    <path d=\"M18.56 5.44l.94 2.06.94-2.06 2.06-.94-2.06-.94-.94-2.06-.94 2.06-2.06.94zm-11 1L8.5 8.5l.94-2.06 2.06-.94-2.06-.94L8.5 2.5l-.94 2.06-2.06.94zm10 10l.94 2.06.94-2.06 2.06-.94-2.06-.94-.94-2.06-.94 2.06-2.06.94z\"/><path d=\"M17.41 7.96l-1.37-1.37c-.4-.4-.92-.59-1.43-.59-.52 0-1.04.2-1.43.59L10.3 9.45l-7.72 7.72c-.78.78-.78 2.05 0 2.83L4 21.41c.39.39.9.59 1.41.59.51 0 1.02-.2 1.41-.59l7.78-7.78 2.81-2.81c.8-.78.8-2.07 0-2.86zM5.41 20L4 18.59l7.72-7.72 1.47 1.35L5.41 20z\"/>\n",
              "  </svg>\n",
              "      </button>\n",
              "      \n",
              "  <style>\n",
              "    .colab-df-container {\n",
              "      display:flex;\n",
              "      flex-wrap:wrap;\n",
              "      gap: 12px;\n",
              "    }\n",
              "\n",
              "    .colab-df-convert {\n",
              "      background-color: #E8F0FE;\n",
              "      border: none;\n",
              "      border-radius: 50%;\n",
              "      cursor: pointer;\n",
              "      display: none;\n",
              "      fill: #1967D2;\n",
              "      height: 32px;\n",
              "      padding: 0 0 0 0;\n",
              "      width: 32px;\n",
              "    }\n",
              "\n",
              "    .colab-df-convert:hover {\n",
              "      background-color: #E2EBFA;\n",
              "      box-shadow: 0px 1px 2px rgba(60, 64, 67, 0.3), 0px 1px 3px 1px rgba(60, 64, 67, 0.15);\n",
              "      fill: #174EA6;\n",
              "    }\n",
              "\n",
              "    [theme=dark] .colab-df-convert {\n",
              "      background-color: #3B4455;\n",
              "      fill: #D2E3FC;\n",
              "    }\n",
              "\n",
              "    [theme=dark] .colab-df-convert:hover {\n",
              "      background-color: #434B5C;\n",
              "      box-shadow: 0px 1px 3px 1px rgba(0, 0, 0, 0.15);\n",
              "      filter: drop-shadow(0px 1px 2px rgba(0, 0, 0, 0.3));\n",
              "      fill: #FFFFFF;\n",
              "    }\n",
              "  </style>\n",
              "\n",
              "      <script>\n",
              "        const buttonEl =\n",
              "          document.querySelector('#df-ead33061-faa5-4477-a21e-d3fcdbbc1a86 button.colab-df-convert');\n",
              "        buttonEl.style.display =\n",
              "          google.colab.kernel.accessAllowed ? 'block' : 'none';\n",
              "\n",
              "        async function convertToInteractive(key) {\n",
              "          const element = document.querySelector('#df-ead33061-faa5-4477-a21e-d3fcdbbc1a86');\n",
              "          const dataTable =\n",
              "            await google.colab.kernel.invokeFunction('convertToInteractive',\n",
              "                                                     [key], {});\n",
              "          if (!dataTable) return;\n",
              "\n",
              "          const docLinkHtml = 'Like what you see? Visit the ' +\n",
              "            '<a target=\"_blank\" href=https://colab.research.google.com/notebooks/data_table.ipynb>data table notebook</a>'\n",
              "            + ' to learn more about interactive tables.';\n",
              "          element.innerHTML = '';\n",
              "          dataTable['output_type'] = 'display_data';\n",
              "          await google.colab.output.renderOutput(dataTable, element);\n",
              "          const docLink = document.createElement('div');\n",
              "          docLink.innerHTML = docLinkHtml;\n",
              "          element.appendChild(docLink);\n",
              "        }\n",
              "      </script>\n",
              "    </div>\n",
              "  </div>\n",
              "  "
            ]
          },
          "metadata": {},
          "execution_count": 33
        }
      ],
      "source": [
        "pd.pivot_table(df, index = \"Segmentation\", aggfunc=lambda x: x.mode().iat[0])"
      ]
    },
    {
      "cell_type": "code",
      "execution_count": 34,
      "id": "d51e53cd",
      "metadata": {
        "colab": {
          "base_uri": "https://localhost:8080/"
        },
        "id": "d51e53cd",
        "outputId": "49501872-f0b8-452d-b564-9d871a479981"
      },
      "outputs": [
        {
          "output_type": "stream",
          "name": "stderr",
          "text": [
            "<ipython-input-34-cbb45774b644>:1: FutureWarning: Not prepending group keys to the result index of transform-like apply. In the future, the group keys will be included in the index, regardless of whether the applied function returns a like-indexed object.\n",
            "To preserve the previous behavior, use\n",
            "\n",
            "\t>>> .groupby(..., group_keys=False)\n",
            "\n",
            "To adopt the future behavior and silence this warning, use \n",
            "\n",
            "\t>>> .groupby(..., group_keys=True)\n",
            "  df[\"Ever_Married\"] = df.groupby([\"Segmentation\"])[\"Ever_Married\"].apply(lambda x: x.fillna(x.mode().iat[0]))\n",
            "<ipython-input-34-cbb45774b644>:2: FutureWarning: Not prepending group keys to the result index of transform-like apply. In the future, the group keys will be included in the index, regardless of whether the applied function returns a like-indexed object.\n",
            "To preserve the previous behavior, use\n",
            "\n",
            "\t>>> .groupby(..., group_keys=False)\n",
            "\n",
            "To adopt the future behavior and silence this warning, use \n",
            "\n",
            "\t>>> .groupby(..., group_keys=True)\n",
            "  df[\"Graduated\"] = df.groupby([\"Segmentation\"])[\"Graduated\"].apply(lambda x: x.fillna(x.mode().iat[0]))\n",
            "<ipython-input-34-cbb45774b644>:3: FutureWarning: Not prepending group keys to the result index of transform-like apply. In the future, the group keys will be included in the index, regardless of whether the applied function returns a like-indexed object.\n",
            "To preserve the previous behavior, use\n",
            "\n",
            "\t>>> .groupby(..., group_keys=False)\n",
            "\n",
            "To adopt the future behavior and silence this warning, use \n",
            "\n",
            "\t>>> .groupby(..., group_keys=True)\n",
            "  df[\"Profession\"] = df.groupby([\"Segmentation\"])[\"Profession\"].apply(lambda x: x.fillna(x.mode().iat[0]))\n",
            "<ipython-input-34-cbb45774b644>:4: FutureWarning: Not prepending group keys to the result index of transform-like apply. In the future, the group keys will be included in the index, regardless of whether the applied function returns a like-indexed object.\n",
            "To preserve the previous behavior, use\n",
            "\n",
            "\t>>> .groupby(..., group_keys=False)\n",
            "\n",
            "To adopt the future behavior and silence this warning, use \n",
            "\n",
            "\t>>> .groupby(..., group_keys=True)\n",
            "  df[\"Family_Size\"] = df.groupby([\"Segmentation\"])[\"Family_Size\"].apply(lambda x: x.fillna(x.mean()))\n"
          ]
        }
      ],
      "source": [
        "df[\"Ever_Married\"] = df.groupby([\"Segmentation\"])[\"Ever_Married\"].apply(lambda x: x.fillna(x.mode().iat[0]))\n",
        "df[\"Graduated\"] = df.groupby([\"Segmentation\"])[\"Graduated\"].apply(lambda x: x.fillna(x.mode().iat[0]))\n",
        "df[\"Profession\"] = df.groupby([\"Segmentation\"])[\"Profession\"].apply(lambda x: x.fillna(x.mode().iat[0]))\n",
        "df[\"Family_Size\"] = df.groupby([\"Segmentation\"])[\"Family_Size\"].apply(lambda x: x.fillna(x.mean()))\n",
        "df[\"Work_Experience\"] = df[\"Work_Experience\"].replace(np.nan,1)"
      ]
    },
    {
      "cell_type": "markdown",
      "id": "3a5ab535",
      "metadata": {
        "id": "3a5ab535"
      },
      "source": [
        "Discretizamos las variables cuantitativas"
      ]
    },
    {
      "cell_type": "code",
      "execution_count": 35,
      "id": "375c632a",
      "metadata": {
        "id": "375c632a"
      },
      "outputs": [],
      "source": [
        "df[\"Age\"] = pd.cut(x = df[\"Age\"], bins = [16,18,26,59,df[\"Age\"].max()] , labels = [\"Adolescencia\",\"Juventud\",\"Adultez\",\"Vejez\"])\n",
        "df[\"Work_Experience\"] = pd.cut(x = df[\"Work_Experience\"], bins = [-1,2,6,df[\"Work_Experience\"].max()], labels = [\"Junior\",\"Semi-Senior\",\"Senior\"])\n",
        "df[\"Family_Size\"] = pd.cut(x = df[\"Family_Size\"], bins = [0,3,6,df[\"Family_Size\"].max()] , labels = [\"Pequeña\",\"Mediana\",\"Grande\"])"
      ]
    },
    {
      "cell_type": "markdown",
      "id": "a81a8f52",
      "metadata": {
        "id": "a81a8f52"
      },
      "source": [
        "Hacemos uso de variables dummies para nuestras variables categóricas nominales."
      ]
    },
    {
      "cell_type": "code",
      "execution_count": 36,
      "id": "67154a1e",
      "metadata": {
        "id": "67154a1e"
      },
      "outputs": [],
      "source": [
        "df_new = pd.get_dummies(df, columns = [\"Gender\",\"Ever_Married\",\"Graduated\",\"Profession\"], drop_first = True)"
      ]
    },
    {
      "cell_type": "markdown",
      "id": "fbfa94df",
      "metadata": {
        "id": "fbfa94df"
      },
      "source": [
        "Hacemos uso del One Hot Encoder para nuestras variables categóricas ordinales"
      ]
    },
    {
      "cell_type": "code",
      "execution_count": 37,
      "id": "fa5a6ca0",
      "metadata": {
        "id": "fa5a6ca0"
      },
      "outputs": [],
      "source": [
        "a = [\"Low\",\"Average\",\"High\"]\n",
        "b = [\"A\",\"B\",\"C\",\"D\",\"E\"]\n",
        "c = [\"Adolescencia\",\"Juventud\",\"Adultez\",\"Vejez\"]\n",
        "d = [\"Junior\",\"Semi-Senior\",\"Senior\"]\n",
        "e = [\"Pequeña\",\"Mediana\",\"Grande\"]\n",
        "encoder = OrdinalEncoder(categories = [a,b,c,d,e])\n",
        "df_new_encoder = encoder.fit_transform(df_new[[\"Spending_Score\",\"Segmentation\",\"Age\",\"Work_Experience\",\"Family_Size\"]])\n",
        "df_new_encoder = pd.DataFrame(df_new_encoder,columns = [\"Spending_Score\",\"Segmentation\",\"Age\",\"Work_Experience\",\"Family_Size\"])"
      ]
    },
    {
      "cell_type": "code",
      "execution_count": 38,
      "id": "7dfc4e29",
      "metadata": {
        "id": "7dfc4e29"
      },
      "outputs": [],
      "source": [
        "df_new_encoder = df_new_encoder.reset_index()\n",
        "df_new = df_new.drop(columns = [\"Age\",\"Work_Experience\",\"Spending_Score\",\"Family_Size\",\"Segmentation\"]).reset_index()"
      ]
    },
    {
      "cell_type": "code",
      "execution_count": 39,
      "id": "08d19c86",
      "metadata": {
        "colab": {
          "base_uri": "https://localhost:8080/",
          "height": 270
        },
        "id": "08d19c86",
        "outputId": "92959353-5139-4aa8-ed75-ae0026625102"
      },
      "outputs": [
        {
          "output_type": "execute_result",
          "data": {
            "text/plain": [
              "   Gender_Male  Ever_Married_Yes  Graduated_Yes  Profession_Doctor  \\\n",
              "0            1                 0              0                  0   \n",
              "1            0                 1              1                  0   \n",
              "2            0                 1              1                  0   \n",
              "3            1                 1              1                  0   \n",
              "4            0                 1              1                  0   \n",
              "\n",
              "   Profession_Engineer  Profession_Entertainment  Profession_Executive  \\\n",
              "0                    0                         0                     0   \n",
              "1                    1                         0                     0   \n",
              "2                    1                         0                     0   \n",
              "3                    0                         0                     0   \n",
              "4                    0                         1                     0   \n",
              "\n",
              "   Profession_Healthcare  Profession_Homemaker  Profession_Lawyer  \\\n",
              "0                      1                     0                  0   \n",
              "1                      0                     0                  0   \n",
              "2                      0                     0                  0   \n",
              "3                      0                     0                  1   \n",
              "4                      0                     0                  0   \n",
              "\n",
              "   Profession_Marketing  Spending_Score  Segmentation  Age  Work_Experience  \\\n",
              "0                     0             0.0           3.0  1.0              0.0   \n",
              "1                     0             1.0           0.0  2.0              0.0   \n",
              "2                     0             0.0           1.0  3.0              0.0   \n",
              "3                     0             2.0           1.0  3.0              0.0   \n",
              "4                     0             2.0           0.0  2.0              0.0   \n",
              "\n",
              "   Family_Size  \n",
              "0          1.0  \n",
              "1          0.0  \n",
              "2          0.0  \n",
              "3          0.0  \n",
              "4          1.0  "
            ],
            "text/html": [
              "\n",
              "  <div id=\"df-00037b4e-e531-4250-ab6e-95020356272e\">\n",
              "    <div class=\"colab-df-container\">\n",
              "      <div>\n",
              "<style scoped>\n",
              "    .dataframe tbody tr th:only-of-type {\n",
              "        vertical-align: middle;\n",
              "    }\n",
              "\n",
              "    .dataframe tbody tr th {\n",
              "        vertical-align: top;\n",
              "    }\n",
              "\n",
              "    .dataframe thead th {\n",
              "        text-align: right;\n",
              "    }\n",
              "</style>\n",
              "<table border=\"1\" class=\"dataframe\">\n",
              "  <thead>\n",
              "    <tr style=\"text-align: right;\">\n",
              "      <th></th>\n",
              "      <th>Gender_Male</th>\n",
              "      <th>Ever_Married_Yes</th>\n",
              "      <th>Graduated_Yes</th>\n",
              "      <th>Profession_Doctor</th>\n",
              "      <th>Profession_Engineer</th>\n",
              "      <th>Profession_Entertainment</th>\n",
              "      <th>Profession_Executive</th>\n",
              "      <th>Profession_Healthcare</th>\n",
              "      <th>Profession_Homemaker</th>\n",
              "      <th>Profession_Lawyer</th>\n",
              "      <th>Profession_Marketing</th>\n",
              "      <th>Spending_Score</th>\n",
              "      <th>Segmentation</th>\n",
              "      <th>Age</th>\n",
              "      <th>Work_Experience</th>\n",
              "      <th>Family_Size</th>\n",
              "    </tr>\n",
              "  </thead>\n",
              "  <tbody>\n",
              "    <tr>\n",
              "      <th>0</th>\n",
              "      <td>1</td>\n",
              "      <td>0</td>\n",
              "      <td>0</td>\n",
              "      <td>0</td>\n",
              "      <td>0</td>\n",
              "      <td>0</td>\n",
              "      <td>0</td>\n",
              "      <td>1</td>\n",
              "      <td>0</td>\n",
              "      <td>0</td>\n",
              "      <td>0</td>\n",
              "      <td>0.0</td>\n",
              "      <td>3.0</td>\n",
              "      <td>1.0</td>\n",
              "      <td>0.0</td>\n",
              "      <td>1.0</td>\n",
              "    </tr>\n",
              "    <tr>\n",
              "      <th>1</th>\n",
              "      <td>0</td>\n",
              "      <td>1</td>\n",
              "      <td>1</td>\n",
              "      <td>0</td>\n",
              "      <td>1</td>\n",
              "      <td>0</td>\n",
              "      <td>0</td>\n",
              "      <td>0</td>\n",
              "      <td>0</td>\n",
              "      <td>0</td>\n",
              "      <td>0</td>\n",
              "      <td>1.0</td>\n",
              "      <td>0.0</td>\n",
              "      <td>2.0</td>\n",
              "      <td>0.0</td>\n",
              "      <td>0.0</td>\n",
              "    </tr>\n",
              "    <tr>\n",
              "      <th>2</th>\n",
              "      <td>0</td>\n",
              "      <td>1</td>\n",
              "      <td>1</td>\n",
              "      <td>0</td>\n",
              "      <td>1</td>\n",
              "      <td>0</td>\n",
              "      <td>0</td>\n",
              "      <td>0</td>\n",
              "      <td>0</td>\n",
              "      <td>0</td>\n",
              "      <td>0</td>\n",
              "      <td>0.0</td>\n",
              "      <td>1.0</td>\n",
              "      <td>3.0</td>\n",
              "      <td>0.0</td>\n",
              "      <td>0.0</td>\n",
              "    </tr>\n",
              "    <tr>\n",
              "      <th>3</th>\n",
              "      <td>1</td>\n",
              "      <td>1</td>\n",
              "      <td>1</td>\n",
              "      <td>0</td>\n",
              "      <td>0</td>\n",
              "      <td>0</td>\n",
              "      <td>0</td>\n",
              "      <td>0</td>\n",
              "      <td>0</td>\n",
              "      <td>1</td>\n",
              "      <td>0</td>\n",
              "      <td>2.0</td>\n",
              "      <td>1.0</td>\n",
              "      <td>3.0</td>\n",
              "      <td>0.0</td>\n",
              "      <td>0.0</td>\n",
              "    </tr>\n",
              "    <tr>\n",
              "      <th>4</th>\n",
              "      <td>0</td>\n",
              "      <td>1</td>\n",
              "      <td>1</td>\n",
              "      <td>0</td>\n",
              "      <td>0</td>\n",
              "      <td>1</td>\n",
              "      <td>0</td>\n",
              "      <td>0</td>\n",
              "      <td>0</td>\n",
              "      <td>0</td>\n",
              "      <td>0</td>\n",
              "      <td>2.0</td>\n",
              "      <td>0.0</td>\n",
              "      <td>2.0</td>\n",
              "      <td>0.0</td>\n",
              "      <td>1.0</td>\n",
              "    </tr>\n",
              "  </tbody>\n",
              "</table>\n",
              "</div>\n",
              "      <button class=\"colab-df-convert\" onclick=\"convertToInteractive('df-00037b4e-e531-4250-ab6e-95020356272e')\"\n",
              "              title=\"Convert this dataframe to an interactive table.\"\n",
              "              style=\"display:none;\">\n",
              "        \n",
              "  <svg xmlns=\"http://www.w3.org/2000/svg\" height=\"24px\"viewBox=\"0 0 24 24\"\n",
              "       width=\"24px\">\n",
              "    <path d=\"M0 0h24v24H0V0z\" fill=\"none\"/>\n",
              "    <path d=\"M18.56 5.44l.94 2.06.94-2.06 2.06-.94-2.06-.94-.94-2.06-.94 2.06-2.06.94zm-11 1L8.5 8.5l.94-2.06 2.06-.94-2.06-.94L8.5 2.5l-.94 2.06-2.06.94zm10 10l.94 2.06.94-2.06 2.06-.94-2.06-.94-.94-2.06-.94 2.06-2.06.94z\"/><path d=\"M17.41 7.96l-1.37-1.37c-.4-.4-.92-.59-1.43-.59-.52 0-1.04.2-1.43.59L10.3 9.45l-7.72 7.72c-.78.78-.78 2.05 0 2.83L4 21.41c.39.39.9.59 1.41.59.51 0 1.02-.2 1.41-.59l7.78-7.78 2.81-2.81c.8-.78.8-2.07 0-2.86zM5.41 20L4 18.59l7.72-7.72 1.47 1.35L5.41 20z\"/>\n",
              "  </svg>\n",
              "      </button>\n",
              "      \n",
              "  <style>\n",
              "    .colab-df-container {\n",
              "      display:flex;\n",
              "      flex-wrap:wrap;\n",
              "      gap: 12px;\n",
              "    }\n",
              "\n",
              "    .colab-df-convert {\n",
              "      background-color: #E8F0FE;\n",
              "      border: none;\n",
              "      border-radius: 50%;\n",
              "      cursor: pointer;\n",
              "      display: none;\n",
              "      fill: #1967D2;\n",
              "      height: 32px;\n",
              "      padding: 0 0 0 0;\n",
              "      width: 32px;\n",
              "    }\n",
              "\n",
              "    .colab-df-convert:hover {\n",
              "      background-color: #E2EBFA;\n",
              "      box-shadow: 0px 1px 2px rgba(60, 64, 67, 0.3), 0px 1px 3px 1px rgba(60, 64, 67, 0.15);\n",
              "      fill: #174EA6;\n",
              "    }\n",
              "\n",
              "    [theme=dark] .colab-df-convert {\n",
              "      background-color: #3B4455;\n",
              "      fill: #D2E3FC;\n",
              "    }\n",
              "\n",
              "    [theme=dark] .colab-df-convert:hover {\n",
              "      background-color: #434B5C;\n",
              "      box-shadow: 0px 1px 3px 1px rgba(0, 0, 0, 0.15);\n",
              "      filter: drop-shadow(0px 1px 2px rgba(0, 0, 0, 0.3));\n",
              "      fill: #FFFFFF;\n",
              "    }\n",
              "  </style>\n",
              "\n",
              "      <script>\n",
              "        const buttonEl =\n",
              "          document.querySelector('#df-00037b4e-e531-4250-ab6e-95020356272e button.colab-df-convert');\n",
              "        buttonEl.style.display =\n",
              "          google.colab.kernel.accessAllowed ? 'block' : 'none';\n",
              "\n",
              "        async function convertToInteractive(key) {\n",
              "          const element = document.querySelector('#df-00037b4e-e531-4250-ab6e-95020356272e');\n",
              "          const dataTable =\n",
              "            await google.colab.kernel.invokeFunction('convertToInteractive',\n",
              "                                                     [key], {});\n",
              "          if (!dataTable) return;\n",
              "\n",
              "          const docLinkHtml = 'Like what you see? Visit the ' +\n",
              "            '<a target=\"_blank\" href=https://colab.research.google.com/notebooks/data_table.ipynb>data table notebook</a>'\n",
              "            + ' to learn more about interactive tables.';\n",
              "          element.innerHTML = '';\n",
              "          dataTable['output_type'] = 'display_data';\n",
              "          await google.colab.output.renderOutput(dataTable, element);\n",
              "          const docLink = document.createElement('div');\n",
              "          docLink.innerHTML = docLinkHtml;\n",
              "          element.appendChild(docLink);\n",
              "        }\n",
              "      </script>\n",
              "    </div>\n",
              "  </div>\n",
              "  "
            ]
          },
          "metadata": {},
          "execution_count": 39
        }
      ],
      "source": [
        "df_new = pd.merge(df_new,df_new_encoder, on = \"index\" ).drop(columns = [\"index\"])\n",
        "df_new.head(5)"
      ]
    },
    {
      "cell_type": "markdown",
      "id": "eea5a542",
      "metadata": {
        "id": "eea5a542"
      },
      "source": [
        "**Prueba chi2:** Se realiza la prueba de chi cuadrado para calcular la importancia de cada variable"
      ]
    },
    {
      "cell_type": "code",
      "execution_count": 40,
      "id": "078ccf9c",
      "metadata": {
        "id": "078ccf9c"
      },
      "outputs": [],
      "source": [
        "X_chi = df_new.drop(columns = [\"Segmentation\"], axis = 1)\n",
        "y_chi = df_new[\"Segmentation\"]"
      ]
    },
    {
      "cell_type": "code",
      "execution_count": 41,
      "id": "369da3e9",
      "metadata": {
        "id": "369da3e9"
      },
      "outputs": [],
      "source": [
        "chi_scores = chi2(X_chi, y_chi)"
      ]
    },
    {
      "cell_type": "code",
      "execution_count": 42,
      "id": "f13b2a91",
      "metadata": {
        "colab": {
          "base_uri": "https://localhost:8080/",
          "height": 611
        },
        "id": "f13b2a91",
        "outputId": "5ba8da01-b7a8-4e64-8de5-95b1f6779bfa"
      },
      "outputs": [
        {
          "output_type": "execute_result",
          "data": {
            "text/plain": [
              "<Axes: >"
            ]
          },
          "metadata": {},
          "execution_count": 42
        },
        {
          "output_type": "display_data",
          "data": {
            "text/plain": [
              "<Figure size 640x480 with 1 Axes>"
            ],
            "image/png": "[encoded data removed]"
          },
          "metadata": {}
        }
      ],
      "source": [
        "chi_values = pd.Series(chi_scores[0], index = X_chi.columns)\n",
        "chi_values.sort_values(ascending = False, inplace = True)\n",
        "chi_values.plot.bar()"
      ]
    },
    {
      "cell_type": "markdown",
      "id": "e3525b7a",
      "metadata": {
        "id": "e3525b7a"
      },
      "source": [
        "Después de haber realizado las pruebas de chi cuadrado, se ha optado por no considerar todas las variables sino las 8 más relevantes."
      ]
    },
    {
      "cell_type": "code",
      "execution_count": 43,
      "id": "8157865b",
      "metadata": {
        "colab": {
          "base_uri": "https://localhost:8080/",
          "height": 250
        },
        "id": "8157865b",
        "outputId": "8ffaaad3-d186-4619-b3c1-ce69e53f315a"
      },
      "outputs": [
        {
          "output_type": "execute_result",
          "data": {
            "text/plain": [
              "   Profession_Healthcare  Spending_Score  Ever_Married_Yes  Profession_Lawyer  \\\n",
              "0                      1             0.0                 0                  0   \n",
              "1                      0             1.0                 1                  0   \n",
              "2                      0             0.0                 1                  0   \n",
              "3                      0             2.0                 1                  1   \n",
              "4                      0             2.0                 1                  0   \n",
              "\n",
              "   Age  Graduated_Yes  Family_Size  Segmentation  \n",
              "0  1.0              0          1.0           3.0  \n",
              "1  2.0              1          0.0           0.0  \n",
              "2  3.0              1          0.0           1.0  \n",
              "3  3.0              1          0.0           1.0  \n",
              "4  2.0              1          1.0           0.0  "
            ],
            "text/html": [
              "\n",
              "  <div id=\"df-91436726-a0d0-4373-8466-21e3a6c75703\">\n",
              "    <div class=\"colab-df-container\">\n",
              "      <div>\n",
              "<style scoped>\n",
              "    .dataframe tbody tr th:only-of-type {\n",
              "        vertical-align: middle;\n",
              "    }\n",
              "\n",
              "    .dataframe tbody tr th {\n",
              "        vertical-align: top;\n",
              "    }\n",
              "\n",
              "    .dataframe thead th {\n",
              "        text-align: right;\n",
              "    }\n",
              "</style>\n",
              "<table border=\"1\" class=\"dataframe\">\n",
              "  <thead>\n",
              "    <tr style=\"text-align: right;\">\n",
              "      <th></th>\n",
              "      <th>Profession_Healthcare</th>\n",
              "      <th>Spending_Score</th>\n",
              "      <th>Ever_Married_Yes</th>\n",
              "      <th>Profession_Lawyer</th>\n",
              "      <th>Age</th>\n",
              "      <th>Graduated_Yes</th>\n",
              "      <th>Family_Size</th>\n",
              "      <th>Segmentation</th>\n",
              "    </tr>\n",
              "  </thead>\n",
              "  <tbody>\n",
              "    <tr>\n",
              "      <th>0</th>\n",
              "      <td>1</td>\n",
              "      <td>0.0</td>\n",
              "      <td>0</td>\n",
              "      <td>0</td>\n",
              "      <td>1.0</td>\n",
              "      <td>0</td>\n",
              "      <td>1.0</td>\n",
              "      <td>3.0</td>\n",
              "    </tr>\n",
              "    <tr>\n",
              "      <th>1</th>\n",
              "      <td>0</td>\n",
              "      <td>1.0</td>\n",
              "      <td>1</td>\n",
              "      <td>0</td>\n",
              "      <td>2.0</td>\n",
              "      <td>1</td>\n",
              "      <td>0.0</td>\n",
              "      <td>0.0</td>\n",
              "    </tr>\n",
              "    <tr>\n",
              "      <th>2</th>\n",
              "      <td>0</td>\n",
              "      <td>0.0</td>\n",
              "      <td>1</td>\n",
              "      <td>0</td>\n",
              "      <td>3.0</td>\n",
              "      <td>1</td>\n",
              "      <td>0.0</td>\n",
              "      <td>1.0</td>\n",
              "    </tr>\n",
              "    <tr>\n",
              "      <th>3</th>\n",
              "      <td>0</td>\n",
              "      <td>2.0</td>\n",
              "      <td>1</td>\n",
              "      <td>1</td>\n",
              "      <td>3.0</td>\n",
              "      <td>1</td>\n",
              "      <td>0.0</td>\n",
              "      <td>1.0</td>\n",
              "    </tr>\n",
              "    <tr>\n",
              "      <th>4</th>\n",
              "      <td>0</td>\n",
              "      <td>2.0</td>\n",
              "      <td>1</td>\n",
              "      <td>0</td>\n",
              "      <td>2.0</td>\n",
              "      <td>1</td>\n",
              "      <td>1.0</td>\n",
              "      <td>0.0</td>\n",
              "    </tr>\n",
              "  </tbody>\n",
              "</table>\n",
              "</div>\n",
              "      <button class=\"colab-df-convert\" onclick=\"convertToInteractive('df-91436726-a0d0-4373-8466-21e3a6c75703')\"\n",
              "              title=\"Convert this dataframe to an interactive table.\"\n",
              "              style=\"display:none;\">\n",
              "        \n",
              "  <svg xmlns=\"http://www.w3.org/2000/svg\" height=\"24px\"viewBox=\"0 0 24 24\"\n",
              "       width=\"24px\">\n",
              "    <path d=\"M0 0h24v24H0V0z\" fill=\"none\"/>\n",
              "    <path d=\"M18.56 5.44l.94 2.06.94-2.06 2.06-.94-2.06-.94-.94-2.06-.94 2.06-2.06.94zm-11 1L8.5 8.5l.94-2.06 2.06-.94-2.06-.94L8.5 2.5l-.94 2.06-2.06.94zm10 10l.94 2.06.94-2.06 2.06-.94-2.06-.94-.94-2.06-.94 2.06-2.06.94z\"/><path d=\"M17.41 7.96l-1.37-1.37c-.4-.4-.92-.59-1.43-.59-.52 0-1.04.2-1.43.59L10.3 9.45l-7.72 7.72c-.78.78-.78 2.05 0 2.83L4 21.41c.39.39.9.59 1.41.59.51 0 1.02-.2 1.41-.59l7.78-7.78 2.81-2.81c.8-.78.8-2.07 0-2.86zM5.41 20L4 18.59l7.72-7.72 1.47 1.35L5.41 20z\"/>\n",
              "  </svg>\n",
              "      </button>\n",
              "      \n",
              "  <style>\n",
              "    .colab-df-container {\n",
              "      display:flex;\n",
              "      flex-wrap:wrap;\n",
              "      gap: 12px;\n",
              "    }\n",
              "\n",
              "    .colab-df-convert {\n",
              "      background-color: #E8F0FE;\n",
              "      border: none;\n",
              "      border-radius: 50%;\n",
              "      cursor: pointer;\n",
              "      display: none;\n",
              "      fill: #1967D2;\n",
              "      height: 32px;\n",
              "      padding: 0 0 0 0;\n",
              "      width: 32px;\n",
              "    }\n",
              "\n",
              "    .colab-df-convert:hover {\n",
              "      background-color: #E2EBFA;\n",
              "      box-shadow: 0px 1px 2px rgba(60, 64, 67, 0.3), 0px 1px 3px 1px rgba(60, 64, 67, 0.15);\n",
              "      fill: #174EA6;\n",
              "    }\n",
              "\n",
              "    [theme=dark] .colab-df-convert {\n",
              "      background-color: #3B4455;\n",
              "      fill: #D2E3FC;\n",
              "    }\n",
              "\n",
              "    [theme=dark] .colab-df-convert:hover {\n",
              "      background-color: #434B5C;\n",
              "      box-shadow: 0px 1px 3px 1px rgba(0, 0, 0, 0.15);\n",
              "      filter: drop-shadow(0px 1px 2px rgba(0, 0, 0, 0.3));\n",
              "      fill: #FFFFFF;\n",
              "    }\n",
              "  </style>\n",
              "\n",
              "      <script>\n",
              "        const buttonEl =\n",
              "          document.querySelector('#df-91436726-a0d0-4373-8466-21e3a6c75703 button.colab-df-convert');\n",
              "        buttonEl.style.display =\n",
              "          google.colab.kernel.accessAllowed ? 'block' : 'none';\n",
              "\n",
              "        async function convertToInteractive(key) {\n",
              "          const element = document.querySelector('#df-91436726-a0d0-4373-8466-21e3a6c75703');\n",
              "          const dataTable =\n",
              "            await google.colab.kernel.invokeFunction('convertToInteractive',\n",
              "                                                     [key], {});\n",
              "          if (!dataTable) return;\n",
              "\n",
              "          const docLinkHtml = 'Like what you see? Visit the ' +\n",
              "            '<a target=\"_blank\" href=https://colab.research.google.com/notebooks/data_table.ipynb>data table notebook</a>'\n",
              "            + ' to learn more about interactive tables.';\n",
              "          element.innerHTML = '';\n",
              "          dataTable['output_type'] = 'display_data';\n",
              "          await google.colab.output.renderOutput(dataTable, element);\n",
              "          const docLink = document.createElement('div');\n",
              "          docLink.innerHTML = docLinkHtml;\n",
              "          element.appendChild(docLink);\n",
              "        }\n",
              "      </script>\n",
              "    </div>\n",
              "  </div>\n",
              "  "
            ]
          },
          "metadata": {},
          "execution_count": 43
        }
      ],
      "source": [
        "df_new = df_new[[\"Profession_Healthcare\",\"Spending_Score\",\"Ever_Married_Yes\",\"Profession_Lawyer\",\"Age\",\"Graduated_Yes\",\"Family_Size\",\"Segmentation\"]]\n",
        "df_new.head(5)"
      ]
    },
    {
      "cell_type": "markdown",
      "id": "49815fde",
      "metadata": {
        "ExecuteTime": {
          "end_time": "2022-03-14T15:56:34.366469Z",
          "start_time": "2022-03-14T15:56:34.358471Z"
        },
        "id": "49815fde"
      },
      "source": [
        "## División del dataset en datos de entrenamiento y datos de test "
      ]
    },
    {
      "cell_type": "code",
      "execution_count": null,
      "id": "6f26d21e",
      "metadata": {
        "id": "6f26d21e"
      },
      "outputs": [],
      "source": [
        "#Código que realice la división en entrenamiento y test, de acuerdo con la estretgia de evaluación planeada. Describa cuál es."
      ]
    },
    {
      "cell_type": "code",
      "execution_count": 44,
      "id": "eb2e8d0c",
      "metadata": {
        "id": "eb2e8d0c"
      },
      "outputs": [],
      "source": [
        "from sklearn.model_selection import train_test_split, cross_val_score"
      ]
    },
    {
      "cell_type": "code",
      "execution_count": 45,
      "id": "ff7c7d39",
      "metadata": {
        "id": "ff7c7d39"
      },
      "outputs": [],
      "source": [
        "X = df_new[df_new.columns[:-1]]\n",
        "y = df_new[\"Segmentation\"]"
      ]
    },
    {
      "cell_type": "code",
      "execution_count": 56,
      "id": "9949af25",
      "metadata": {
        "id": "9949af25"
      },
      "outputs": [],
      "source": [
        "X_train, X_test, y_train, y_test = train_test_split(X, y, test_size = 0.3, random_state = 1)"
      ]
    },
    {
      "cell_type": "markdown",
      "id": "8b189911",
      "metadata": {
        "id": "8b189911"
      },
      "source": [
        "## Propuesta de arquitectura de red neuronal"
      ]
    },
    {
      "cell_type": "markdown",
      "id": "f54e4b8d",
      "metadata": {
        "id": "f54e4b8d"
      },
      "source": [
        "Describe: \n",
        "\n",
        "+ las neuronas en la capa de entrada \n",
        "+ las capas intermedias – al menos dos – \n",
        "+ capa de salida\n",
        "+ funciones de activación\n",
        "\n",
        "Al menos utiliza relu en algunas de las capas intermedias y utiliza softmax en la capa de salida."
      ]
    },
    {
      "cell_type": "code",
      "execution_count": 47,
      "id": "2eaa0e96",
      "metadata": {
        "id": "2eaa0e96"
      },
      "outputs": [],
      "source": [
        "# Código de la estructuración de la red\n",
        "import tensorflow as tf\n",
        "from tensorflow import keras"
      ]
    },
    {
      "cell_type": "code",
      "execution_count": 71,
      "id": "587d6fed",
      "metadata": {
        "id": "587d6fed"
      },
      "outputs": [],
      "source": [
        "#Código de la inspección del modelo de red\n",
        "def build_model():\n",
        "  model = keras.Sequential()\n",
        "\n",
        "  model.add(keras.layers.Dense(16, activation = \"relu\", input_dim = 7))\n",
        "  model.add(keras.layers.Dense(8, activation = \"relu\"))\n",
        "  model.add(keras.layers.Dense(4, activation = \"relu\"))\n",
        "  model.add(keras.layers.Dense(5, activation = \"softmax\"))\n",
        "\n",
        "  model.compile(optimizer='adam',\n",
        "              loss='sparse_categorical_crossentropy',\n",
        "              metrics=['accuracy'])\n",
        "  return model"
      ]
    },
    {
      "cell_type": "markdown",
      "id": "635384f7",
      "metadata": {
        "id": "635384f7"
      },
      "source": [
        "##  Ajuste de modelo de Clasificación RNA"
      ]
    },
    {
      "cell_type": "markdown",
      "id": "1c9c3f6c",
      "metadata": {
        "id": "1c9c3f6c"
      },
      "source": [
        "Mediante Python y utilizando al menos Keras sobre TensorFlow 2.0 (tensorflow.keras), entrena el modelo o modelos de red neuronal escogidos."
      ]
    },
    {
      "cell_type": "code",
      "source": [
        "model = build_model()\n",
        "model.summary()"
      ],
      "metadata": {
        "colab": {
          "base_uri": "https://localhost:8080/"
        },
        "id": "8NEFq3thi0PA",
        "outputId": "87e59e4c-b05d-42ff-d96b-66198b1fa3dd"
      },
      "id": "8NEFq3thi0PA",
      "execution_count": 72,
      "outputs": [
        {
          "output_type": "stream",
          "name": "stdout",
          "text": [
            "Model: \"sequential_2\"\n",
            "_________________________________________________________________\n",
            " Layer (type)                Output Shape              Param #   \n",
            "=================================================================\n",
            " dense_8 (Dense)             (None, 16)                128       \n",
            "                                                                 \n",
            " dense_9 (Dense)             (None, 8)                 136       \n",
            "                                                                 \n",
            " dense_10 (Dense)            (None, 4)                 36        \n",
            "                                                                 \n",
            " dense_11 (Dense)            (None, 5)                 25        \n",
            "                                                                 \n",
            "=================================================================\n",
            "Total params: 325\n",
            "Trainable params: 325\n",
            "Non-trainable params: 0\n",
            "_________________________________________________________________\n"
          ]
        }
      ]
    },
    {
      "cell_type": "code",
      "source": [
        "model.fit(X_train, y_train, epochs=100)"
      ],
      "metadata": {
        "colab": {
          "base_uri": "https://localhost:8080/"
        },
        "id": "Wn3RocuTjV6k",
        "outputId": "93146de0-c9c3-43f0-f44e-7053f5788490"
      },
      "id": "Wn3RocuTjV6k",
      "execution_count": 73,
      "outputs": [
        {
          "output_type": "stream",
          "name": "stdout",
          "text": [
            "Epoch 1/100\n",
            "177/177 [==============================] - 2s 3ms/step - loss: 1.5347 - accuracy: 0.3813\n",
            "Epoch 2/100\n",
            "177/177 [==============================] - 1s 3ms/step - loss: 1.4356 - accuracy: 0.4293\n",
            "Epoch 3/100\n",
            "177/177 [==============================] - 1s 3ms/step - loss: 1.4002 - accuracy: 0.4316\n",
            "Epoch 4/100\n",
            "177/177 [==============================] - 0s 3ms/step - loss: 1.3747 - accuracy: 0.4360\n",
            "Epoch 5/100\n",
            "177/177 [==============================] - 1s 3ms/step - loss: 1.3536 - accuracy: 0.4360\n",
            "Epoch 6/100\n",
            "177/177 [==============================] - 1s 3ms/step - loss: 1.3341 - accuracy: 0.4376\n",
            "Epoch 7/100\n",
            "177/177 [==============================] - 0s 2ms/step - loss: 1.3111 - accuracy: 0.4525\n",
            "Epoch 8/100\n",
            "177/177 [==============================] - 0s 2ms/step - loss: 1.2898 - accuracy: 0.4771\n",
            "Epoch 9/100\n",
            "177/177 [==============================] - 0s 2ms/step - loss: 1.2733 - accuracy: 0.4822\n",
            "Epoch 10/100\n",
            "177/177 [==============================] - 0s 2ms/step - loss: 1.2599 - accuracy: 0.4822\n",
            "Epoch 11/100\n",
            "177/177 [==============================] - 0s 2ms/step - loss: 1.2510 - accuracy: 0.4799\n",
            "Epoch 12/100\n",
            "177/177 [==============================] - 0s 2ms/step - loss: 1.2436 - accuracy: 0.4833\n",
            "Epoch 13/100\n",
            "177/177 [==============================] - 0s 2ms/step - loss: 1.2360 - accuracy: 0.4827\n",
            "Epoch 14/100\n",
            "177/177 [==============================] - 0s 2ms/step - loss: 1.2325 - accuracy: 0.4857\n",
            "Epoch 15/100\n",
            "177/177 [==============================] - 0s 2ms/step - loss: 1.2276 - accuracy: 0.4850\n",
            "Epoch 16/100\n",
            "177/177 [==============================] - 0s 2ms/step - loss: 1.2243 - accuracy: 0.4880\n",
            "Epoch 17/100\n",
            "177/177 [==============================] - 0s 2ms/step - loss: 1.2213 - accuracy: 0.4850\n",
            "Epoch 18/100\n",
            "177/177 [==============================] - 0s 2ms/step - loss: 1.2187 - accuracy: 0.4847\n",
            "Epoch 19/100\n",
            "177/177 [==============================] - 0s 2ms/step - loss: 1.2169 - accuracy: 0.4895\n",
            "Epoch 20/100\n",
            "177/177 [==============================] - 0s 2ms/step - loss: 1.2151 - accuracy: 0.4849\n",
            "Epoch 21/100\n",
            "177/177 [==============================] - 0s 2ms/step - loss: 1.2131 - accuracy: 0.4893\n",
            "Epoch 22/100\n",
            "177/177 [==============================] - 0s 2ms/step - loss: 1.2109 - accuracy: 0.4868\n",
            "Epoch 23/100\n",
            "177/177 [==============================] - 0s 2ms/step - loss: 1.2083 - accuracy: 0.4865\n",
            "Epoch 24/100\n",
            "177/177 [==============================] - 0s 2ms/step - loss: 1.2087 - accuracy: 0.4889\n",
            "Epoch 25/100\n",
            "177/177 [==============================] - 0s 2ms/step - loss: 1.2059 - accuracy: 0.4891\n",
            "Epoch 26/100\n",
            "177/177 [==============================] - 0s 2ms/step - loss: 1.2056 - accuracy: 0.4870\n",
            "Epoch 27/100\n",
            "177/177 [==============================] - 0s 2ms/step - loss: 1.2034 - accuracy: 0.4925\n",
            "Epoch 28/100\n",
            "177/177 [==============================] - 0s 2ms/step - loss: 1.2021 - accuracy: 0.4900\n",
            "Epoch 29/100\n",
            "177/177 [==============================] - 0s 2ms/step - loss: 1.2020 - accuracy: 0.4900\n",
            "Epoch 30/100\n",
            "177/177 [==============================] - 0s 2ms/step - loss: 1.2002 - accuracy: 0.4919\n",
            "Epoch 31/100\n",
            "177/177 [==============================] - 0s 2ms/step - loss: 1.2000 - accuracy: 0.4886\n",
            "Epoch 32/100\n",
            "177/177 [==============================] - 0s 2ms/step - loss: 1.2004 - accuracy: 0.4909\n",
            "Epoch 33/100\n",
            "177/177 [==============================] - 0s 2ms/step - loss: 1.1976 - accuracy: 0.4919\n",
            "Epoch 34/100\n",
            "177/177 [==============================] - 0s 2ms/step - loss: 1.1979 - accuracy: 0.4896\n",
            "Epoch 35/100\n",
            "177/177 [==============================] - 0s 2ms/step - loss: 1.1975 - accuracy: 0.4886\n",
            "Epoch 36/100\n",
            "177/177 [==============================] - 1s 3ms/step - loss: 1.1956 - accuracy: 0.4907\n",
            "Epoch 37/100\n",
            "177/177 [==============================] - 1s 3ms/step - loss: 1.1957 - accuracy: 0.4903\n",
            "Epoch 38/100\n",
            "177/177 [==============================] - 1s 3ms/step - loss: 1.1941 - accuracy: 0.4928\n",
            "Epoch 39/100\n",
            "177/177 [==============================] - 0s 3ms/step - loss: 1.1947 - accuracy: 0.4921\n",
            "Epoch 40/100\n",
            "177/177 [==============================] - 1s 3ms/step - loss: 1.1934 - accuracy: 0.4928\n",
            "Epoch 41/100\n",
            "177/177 [==============================] - 0s 2ms/step - loss: 1.1926 - accuracy: 0.4900\n",
            "Epoch 42/100\n",
            "177/177 [==============================] - 0s 2ms/step - loss: 1.1918 - accuracy: 0.4914\n",
            "Epoch 43/100\n",
            "177/177 [==============================] - 0s 2ms/step - loss: 1.1919 - accuracy: 0.4928\n",
            "Epoch 44/100\n",
            "177/177 [==============================] - 0s 2ms/step - loss: 1.1912 - accuracy: 0.4895\n",
            "Epoch 45/100\n",
            "177/177 [==============================] - 0s 2ms/step - loss: 1.1918 - accuracy: 0.4843\n",
            "Epoch 46/100\n",
            "177/177 [==============================] - 0s 2ms/step - loss: 1.1898 - accuracy: 0.4900\n",
            "Epoch 47/100\n",
            "177/177 [==============================] - 0s 2ms/step - loss: 1.1899 - accuracy: 0.4886\n",
            "Epoch 48/100\n",
            "177/177 [==============================] - 0s 2ms/step - loss: 1.1890 - accuracy: 0.4914\n",
            "Epoch 49/100\n",
            "177/177 [==============================] - 0s 2ms/step - loss: 1.1885 - accuracy: 0.4955\n",
            "Epoch 50/100\n",
            "177/177 [==============================] - 0s 2ms/step - loss: 1.1878 - accuracy: 0.4889\n",
            "Epoch 51/100\n",
            "177/177 [==============================] - 0s 2ms/step - loss: 1.1888 - accuracy: 0.4902\n",
            "Epoch 52/100\n",
            "177/177 [==============================] - 0s 2ms/step - loss: 1.1878 - accuracy: 0.4907\n",
            "Epoch 53/100\n",
            "177/177 [==============================] - 0s 2ms/step - loss: 1.1856 - accuracy: 0.4946\n",
            "Epoch 54/100\n",
            "177/177 [==============================] - 0s 2ms/step - loss: 1.1854 - accuracy: 0.4946\n",
            "Epoch 55/100\n",
            "177/177 [==============================] - 0s 2ms/step - loss: 1.1856 - accuracy: 0.4902\n",
            "Epoch 56/100\n",
            "177/177 [==============================] - 0s 2ms/step - loss: 1.1855 - accuracy: 0.4912\n",
            "Epoch 57/100\n",
            "177/177 [==============================] - 0s 2ms/step - loss: 1.1854 - accuracy: 0.4916\n",
            "Epoch 58/100\n",
            "177/177 [==============================] - 0s 2ms/step - loss: 1.1853 - accuracy: 0.4891\n",
            "Epoch 59/100\n",
            "177/177 [==============================] - 0s 2ms/step - loss: 1.1844 - accuracy: 0.4942\n",
            "Epoch 60/100\n",
            "177/177 [==============================] - 0s 2ms/step - loss: 1.1838 - accuracy: 0.4937\n",
            "Epoch 61/100\n",
            "177/177 [==============================] - 0s 2ms/step - loss: 1.1841 - accuracy: 0.4907\n",
            "Epoch 62/100\n",
            "177/177 [==============================] - 0s 2ms/step - loss: 1.1837 - accuracy: 0.4925\n",
            "Epoch 63/100\n",
            "177/177 [==============================] - 0s 2ms/step - loss: 1.1834 - accuracy: 0.4927\n",
            "Epoch 64/100\n",
            "177/177 [==============================] - 0s 2ms/step - loss: 1.1821 - accuracy: 0.4934\n",
            "Epoch 65/100\n",
            "177/177 [==============================] - 0s 2ms/step - loss: 1.1826 - accuracy: 0.4921\n",
            "Epoch 66/100\n",
            "177/177 [==============================] - 0s 2ms/step - loss: 1.1816 - accuracy: 0.4918\n",
            "Epoch 67/100\n",
            "177/177 [==============================] - 0s 2ms/step - loss: 1.1825 - accuracy: 0.4921\n",
            "Epoch 68/100\n",
            "177/177 [==============================] - 0s 2ms/step - loss: 1.1823 - accuracy: 0.4934\n",
            "Epoch 69/100\n",
            "177/177 [==============================] - 0s 2ms/step - loss: 1.1821 - accuracy: 0.4930\n",
            "Epoch 70/100\n",
            "177/177 [==============================] - 1s 3ms/step - loss: 1.1817 - accuracy: 0.4918\n",
            "Epoch 71/100\n",
            "177/177 [==============================] - 1s 3ms/step - loss: 1.1812 - accuracy: 0.4942\n",
            "Epoch 72/100\n",
            "177/177 [==============================] - 1s 3ms/step - loss: 1.1814 - accuracy: 0.4879\n",
            "Epoch 73/100\n",
            "177/177 [==============================] - 1s 3ms/step - loss: 1.1792 - accuracy: 0.4948\n",
            "Epoch 74/100\n",
            "177/177 [==============================] - 0s 3ms/step - loss: 1.1803 - accuracy: 0.4911\n",
            "Epoch 75/100\n",
            "177/177 [==============================] - 0s 3ms/step - loss: 1.1802 - accuracy: 0.4921\n",
            "Epoch 76/100\n",
            "177/177 [==============================] - 0s 2ms/step - loss: 1.1786 - accuracy: 0.4921\n",
            "Epoch 77/100\n",
            "177/177 [==============================] - 0s 2ms/step - loss: 1.1794 - accuracy: 0.4955\n",
            "Epoch 78/100\n",
            "177/177 [==============================] - 0s 2ms/step - loss: 1.1787 - accuracy: 0.4907\n",
            "Epoch 79/100\n",
            "177/177 [==============================] - 0s 2ms/step - loss: 1.1776 - accuracy: 0.4941\n",
            "Epoch 80/100\n",
            "177/177 [==============================] - 0s 2ms/step - loss: 1.1783 - accuracy: 0.4902\n",
            "Epoch 81/100\n",
            "177/177 [==============================] - 0s 2ms/step - loss: 1.1788 - accuracy: 0.4925\n",
            "Epoch 82/100\n",
            "177/177 [==============================] - 0s 2ms/step - loss: 1.1777 - accuracy: 0.4893\n",
            "Epoch 83/100\n",
            "177/177 [==============================] - 0s 2ms/step - loss: 1.1789 - accuracy: 0.4942\n",
            "Epoch 84/100\n",
            "177/177 [==============================] - 0s 2ms/step - loss: 1.1780 - accuracy: 0.4919\n",
            "Epoch 85/100\n",
            "177/177 [==============================] - 0s 2ms/step - loss: 1.1783 - accuracy: 0.4971\n",
            "Epoch 86/100\n",
            "177/177 [==============================] - 0s 2ms/step - loss: 1.1778 - accuracy: 0.4921\n",
            "Epoch 87/100\n",
            "177/177 [==============================] - 0s 2ms/step - loss: 1.1787 - accuracy: 0.4957\n",
            "Epoch 88/100\n",
            "177/177 [==============================] - 0s 2ms/step - loss: 1.1783 - accuracy: 0.4927\n",
            "Epoch 89/100\n",
            "177/177 [==============================] - 0s 2ms/step - loss: 1.1767 - accuracy: 0.4928\n",
            "Epoch 90/100\n",
            "177/177 [==============================] - 0s 2ms/step - loss: 1.1771 - accuracy: 0.4955\n",
            "Epoch 91/100\n",
            "177/177 [==============================] - 0s 2ms/step - loss: 1.1782 - accuracy: 0.4941\n",
            "Epoch 92/100\n",
            "177/177 [==============================] - 0s 2ms/step - loss: 1.1771 - accuracy: 0.4942\n",
            "Epoch 93/100\n",
            "177/177 [==============================] - 0s 2ms/step - loss: 1.1776 - accuracy: 0.4923\n",
            "Epoch 94/100\n",
            "177/177 [==============================] - 0s 2ms/step - loss: 1.1770 - accuracy: 0.4946\n",
            "Epoch 95/100\n",
            "177/177 [==============================] - 0s 2ms/step - loss: 1.1760 - accuracy: 0.4905\n",
            "Epoch 96/100\n",
            "177/177 [==============================] - 0s 2ms/step - loss: 1.1769 - accuracy: 0.4951\n",
            "Epoch 97/100\n",
            "177/177 [==============================] - 0s 2ms/step - loss: 1.1765 - accuracy: 0.4911\n",
            "Epoch 98/100\n",
            "177/177 [==============================] - 0s 2ms/step - loss: 1.1764 - accuracy: 0.4930\n",
            "Epoch 99/100\n",
            "177/177 [==============================] - 0s 2ms/step - loss: 1.1755 - accuracy: 0.4939\n",
            "Epoch 100/100\n",
            "177/177 [==============================] - 0s 2ms/step - loss: 1.1768 - accuracy: 0.4903\n"
          ]
        },
        {
          "output_type": "execute_result",
          "data": {
            "text/plain": [
              "<keras.callbacks.History at 0x7fec11d39870>"
            ]
          },
          "metadata": {},
          "execution_count": 73
        }
      ]
    },
    {
      "cell_type": "markdown",
      "source": [
        "## Evaluación de modelo RNA\n",
        "\n",
        "Defina las estadísticas (métricas) de evaluación, y dividiendo el dataset en datos de entrenamiento, validación y datos de test prueba tu propuesta.\n"
      ],
      "metadata": {
        "id": "2xVYb5sd4Rqx"
      },
      "id": "2xVYb5sd4Rqx"
    },
    {
      "cell_type": "code",
      "execution_count": 74,
      "id": "35b33294",
      "metadata": {
        "colab": {
          "base_uri": "https://localhost:8080/"
        },
        "id": "35b33294",
        "outputId": "90265dfa-4de3-470a-a85e-ea5e2144aa78"
      },
      "outputs": [
        {
          "output_type": "stream",
          "name": "stdout",
          "text": [
            "177/177 [==============================] - 1s 5ms/step\n",
            "Accuracy on training data: 0.49406763911247253% \n",
            " Error on training data: 0.5059323608875275\n",
            "76/76 [==============================] - 0s 3ms/step\n",
            "Accuracy on test data: 0.5010326504707336% \n",
            " Error on test data: 0.49896734952926636\n"
          ]
        }
      ],
      "source": [
        "#Código de evaluación de la red propuesta (entrenamiento y validación)\n",
        "pred_train= model.predict(X_train)\n",
        "scores = model.evaluate(X_train, y_train, verbose=0)\n",
        "print('Accuracy on training data: {}% \\n Error on training data: {}'.format(scores[1], 1 - scores[1]))   \n",
        " \n",
        "pred_test= model.predict(X_test)\n",
        "scores2 = model.evaluate(X_test, y_test, verbose=0)\n",
        "print('Accuracy on test data: {}% \\n Error on test data: {}'.format(scores2[1], 1 - scores2[1]))    "
      ]
    },
    {
      "cell_type": "markdown",
      "id": "99feaa39",
      "metadata": {
        "id": "99feaa39"
      },
      "source": [
        "## Ajuste de modelos de clasificación alternativos"
      ]
    },
    {
      "cell_type": "markdown",
      "id": "d552bc64",
      "metadata": {
        "id": "d552bc64"
      },
      "source": [
        "Elige al menos un método de clasificación no basado en redes neuronales (p.ej. regresión logística, árboles de decisión, reglas de clasificación, random forest, SVM, etc)."
      ]
    },
    {
      "cell_type": "code",
      "execution_count": 58,
      "id": "d5d2b2c6",
      "metadata": {
        "id": "d5d2b2c6"
      },
      "outputs": [],
      "source": [
        "from sklearn import tree\n",
        "from sklearn.ensemble import RandomForestClassifier\n",
        "from sklearn.metrics import confusion_matrix"
      ]
    },
    {
      "cell_type": "code",
      "execution_count": 59,
      "id": "04021993",
      "metadata": {
        "id": "04021993",
        "outputId": "8eab8478-f8b6-4f8a-c28e-cb4c46f503d8",
        "colab": {
          "base_uri": "https://localhost:8080/",
          "height": 74
        }
      },
      "outputs": [
        {
          "output_type": "execute_result",
          "data": {
            "text/plain": [
              "DecisionTreeClassifier(criterion='entropy', max_depth=8, random_state=1)"
            ],
            "text/html": [
              "<style>#sk-container-id-2 {color: black;background-color: white;}#sk-container-id-2 pre{padding: 0;}#sk-container-id-2 div.sk-toggleable {background-color: white;}#sk-container-id-2 label.sk-toggleable__label {cursor: pointer;display: block;width: 100%;margin-bottom: 0;padding: 0.3em;box-sizing: border-box;text-align: center;}#sk-container-id-2 label.sk-toggleable__label-arrow:before {content: \"▸\";float: left;margin-right: 0.25em;color: #696969;}#sk-container-id-2 label.sk-toggleable__label-arrow:hover:before {color: black;}#sk-container-id-2 div.sk-estimator:hover label.sk-toggleable__label-arrow:before {color: black;}#sk-container-id-2 div.sk-toggleable__content {max-height: 0;max-width: 0;overflow: hidden;text-align: left;background-color: #f0f8ff;}#sk-container-id-2 div.sk-toggleable__content pre {margin: 0.2em;color: black;border-radius: 0.25em;background-color: #f0f8ff;}#sk-container-id-2 input.sk-toggleable__control:checked~div.sk-toggleable__content {max-height: 200px;max-width: 100%;overflow: auto;}#sk-container-id-2 input.sk-toggleable__control:checked~label.sk-toggleable__label-arrow:before {content: \"▾\";}#sk-container-id-2 div.sk-estimator input.sk-toggleable__control:checked~label.sk-toggleable__label {background-color: #d4ebff;}#sk-container-id-2 div.sk-label input.sk-toggleable__control:checked~label.sk-toggleable__label {background-color: #d4ebff;}#sk-container-id-2 input.sk-hidden--visually {border: 0;clip: rect(1px 1px 1px 1px);clip: rect(1px, 1px, 1px, 1px);height: 1px;margin: -1px;overflow: hidden;padding: 0;position: absolute;width: 1px;}#sk-container-id-2 div.sk-estimator {font-family: monospace;background-color: #f0f8ff;border: 1px dotted black;border-radius: 0.25em;box-sizing: border-box;margin-bottom: 0.5em;}#sk-container-id-2 div.sk-estimator:hover {background-color: #d4ebff;}#sk-container-id-2 div.sk-parallel-item::after {content: \"\";width: 100%;border-bottom: 1px solid gray;flex-grow: 1;}#sk-container-id-2 div.sk-label:hover label.sk-toggleable__label {background-color: #d4ebff;}#sk-container-id-2 div.sk-serial::before {content: \"\";position: absolute;border-left: 1px solid gray;box-sizing: border-box;top: 0;bottom: 0;left: 50%;z-index: 0;}#sk-container-id-2 div.sk-serial {display: flex;flex-direction: column;align-items: center;background-color: white;padding-right: 0.2em;padding-left: 0.2em;position: relative;}#sk-container-id-2 div.sk-item {position: relative;z-index: 1;}#sk-container-id-2 div.sk-parallel {display: flex;align-items: stretch;justify-content: center;background-color: white;position: relative;}#sk-container-id-2 div.sk-item::before, #sk-container-id-2 div.sk-parallel-item::before {content: \"\";position: absolute;border-left: 1px solid gray;box-sizing: border-box;top: 0;bottom: 0;left: 50%;z-index: -1;}#sk-container-id-2 div.sk-parallel-item {display: flex;flex-direction: column;z-index: 1;position: relative;background-color: white;}#sk-container-id-2 div.sk-parallel-item:first-child::after {align-self: flex-end;width: 50%;}#sk-container-id-2 div.sk-parallel-item:last-child::after {align-self: flex-start;width: 50%;}#sk-container-id-2 div.sk-parallel-item:only-child::after {width: 0;}#sk-container-id-2 div.sk-dashed-wrapped {border: 1px dashed gray;margin: 0 0.4em 0.5em 0.4em;box-sizing: border-box;padding-bottom: 0.4em;background-color: white;}#sk-container-id-2 div.sk-label label {font-family: monospace;font-weight: bold;display: inline-block;line-height: 1.2em;}#sk-container-id-2 div.sk-label-container {text-align: center;}#sk-container-id-2 div.sk-container {/* jupyter's `normalize.less` sets `[hidden] { display: none; }` but bootstrap.min.css set `[hidden] { display: none !important; }` so we also need the `!important` here to be able to override the default hidden behavior on the sphinx rendered scikit-learn.org. See: https://github.com/scikit-learn/scikit-learn/issues/21755 */display: inline-block !important;position: relative;}#sk-container-id-2 div.sk-text-repr-fallback {display: none;}</style><div id=\"sk-container-id-2\" class=\"sk-top-container\"><div class=\"sk-text-repr-fallback\"><pre>DecisionTreeClassifier(criterion=&#x27;entropy&#x27;, max_depth=8, random_state=1)</pre><b>In a Jupyter environment, please rerun this cell to show the HTML representation or trust the notebook. <br />On GitHub, the HTML representation is unable to render, please try loading this page with nbviewer.org.</b></div><div class=\"sk-container\" hidden><div class=\"sk-item\"><div class=\"sk-estimator sk-toggleable\"><input class=\"sk-toggleable__control sk-hidden--visually\" id=\"sk-estimator-id-2\" type=\"checkbox\" checked><label for=\"sk-estimator-id-2\" class=\"sk-toggleable__label sk-toggleable__label-arrow\">DecisionTreeClassifier</label><div class=\"sk-toggleable__content\"><pre>DecisionTreeClassifier(criterion=&#x27;entropy&#x27;, max_depth=8, random_state=1)</pre></div></div></div></div></div>"
            ]
          },
          "metadata": {},
          "execution_count": 59
        }
      ],
      "source": [
        "#Código de ajuste del modelo de clasificación 1\n",
        "model_arbol = tree.DecisionTreeClassifier(max_depth = 8, criterion = \"entropy\", random_state = 1)\n",
        "model_arbol.fit(X,y)"
      ]
    },
    {
      "cell_type": "code",
      "execution_count": 60,
      "id": "daf3d8e5",
      "metadata": {
        "id": "daf3d8e5"
      },
      "outputs": [],
      "source": [
        "y_arbol = model_arbol.predict(X_test)"
      ]
    },
    {
      "cell_type": "markdown",
      "id": "44df4eb5",
      "metadata": {
        "id": "44df4eb5"
      },
      "source": [
        "## Comparación del desempeño de modelos\n",
        "\n",
        "Muestra los resultados obtenidos por los diferentes algoritmos escogidos de forma gráfica y comparada/superpuesta."
      ]
    },
    {
      "cell_type": "code",
      "execution_count": 84,
      "id": "fe4acd93",
      "metadata": {
        "id": "fe4acd93"
      },
      "outputs": [],
      "source": [
        "#Código para mostrar la comparación de métricas de desempeño de las dos propuestas en tabla\n",
        "from sklearn.metrics import classification_report "
      ]
    },
    {
      "cell_type": "code",
      "source": [
        "print(\"Modelo de red neuronal\")\n",
        "print(classification_report(y_test,y_pred_classes))"
      ],
      "metadata": {
        "colab": {
          "base_uri": "https://localhost:8080/"
        },
        "id": "9eya759YJ-Ne",
        "outputId": "23868ccd-8035-4d30-a7e6-3c2daa0e942d"
      },
      "id": "9eya759YJ-Ne",
      "execution_count": 87,
      "outputs": [
        {
          "output_type": "stream",
          "name": "stdout",
          "text": [
            "Modelo de red neuronal\n",
            "              precision    recall  f1-score   support\n",
            "\n",
            "         0.0       0.37      0.56      0.45       426\n",
            "         1.0       0.32      0.22      0.26       544\n",
            "         2.0       0.56      0.57      0.56       607\n",
            "         3.0       0.66      0.74      0.69       483\n",
            "         4.0       0.61      0.43      0.50       361\n",
            "\n",
            "    accuracy                           0.50      2421\n",
            "   macro avg       0.50      0.50      0.49      2421\n",
            "weighted avg       0.50      0.50      0.49      2421\n",
            "\n"
          ]
        }
      ]
    },
    {
      "cell_type": "code",
      "source": [
        "print(\"Modelo de árbol de decisión\")\n",
        "print(classification_report(y_test,y_arbol))"
      ],
      "metadata": {
        "colab": {
          "base_uri": "https://localhost:8080/"
        },
        "id": "M1vIwKWgKS4Z",
        "outputId": "87febf23-7666-4397-9fb8-dc175ebb6955"
      },
      "id": "M1vIwKWgKS4Z",
      "execution_count": 88,
      "outputs": [
        {
          "output_type": "stream",
          "name": "stdout",
          "text": [
            "Modelo de árbol de decisión\n",
            "              precision    recall  f1-score   support\n",
            "\n",
            "         0.0       0.38      0.55      0.45       426\n",
            "         1.0       0.33      0.17      0.23       544\n",
            "         2.0       0.55      0.62      0.58       607\n",
            "         3.0       0.64      0.77      0.70       483\n",
            "         4.0       0.60      0.44      0.51       361\n",
            "\n",
            "    accuracy                           0.51      2421\n",
            "   macro avg       0.50      0.51      0.49      2421\n",
            "weighted avg       0.50      0.51      0.49      2421\n",
            "\n"
          ]
        }
      ]
    },
    {
      "cell_type": "code",
      "source": [
        "y_pred_classes = np.argmax(pred_test, axis = 1)\n",
        "#Código para mostrar la comparación de métricas de desempeño de las dos propuestas en gráfica\n",
        "mlp_matrix = confusion_matrix(y_test,y_pred_classes)\n",
        "plt.figure(figsize=(5,5))\n",
        "sns.set(font_scale=1.4)\n",
        "sns.heatmap(mlp_matrix,annot=True, cbar=False, cmap=plt.cm.Blues,linewidth=0.5,fmt=\"d\")\n",
        "plt.ylabel('Valor real')\n",
        "plt.xlabel('Valor predicho')\n",
        "plt.title('Matriz de confusión - Modelo redes neuronales');"
      ],
      "metadata": {
        "colab": {
          "base_uri": "https://localhost:8080/",
          "height": 510
        },
        "id": "5zuEdvsRBs88",
        "outputId": "c55b5860-f8bf-48f9-a581-6ac190865fe3"
      },
      "id": "5zuEdvsRBs88",
      "execution_count": 85,
      "outputs": [
        {
          "output_type": "display_data",
          "data": {
            "text/plain": [
              "<Figure size 500x500 with 1 Axes>"
            ],
            "image/png": "[encoded data removed]"
          },
          "metadata": {}
        }
      ]
    },
    {
      "cell_type": "code",
      "execution_count": 65,
      "id": "1b644946",
      "metadata": {
        "id": "1b644946",
        "colab": {
          "base_uri": "https://localhost:8080/",
          "height": 527
        },
        "outputId": "172dad13-12b8-4f06-9ca5-ce2c62c65072"
      },
      "outputs": [
        {
          "output_type": "stream",
          "name": "stdout",
          "text": [
            "Matriz de confusión - Modelo árbol de decisión\n"
          ]
        },
        {
          "output_type": "display_data",
          "data": {
            "text/plain": [
              "<Figure size 500x500 with 1 Axes>"
            ],
            "image/png": "[encoded data removed]"
          },
          "metadata": {}
        }
      ],
      "source": [
        "#Código para mostrar la comparación de métricas de desempeño de las dos propuestas en gráfica\n",
        "print(\"Matriz de confusión - Modelo árbol de decisión\")\n",
        "mlp_matrix = confusion_matrix(y_test,y_arbol)\n",
        "plt.figure(figsize=(5,5))\n",
        "sns.set(font_scale=1.4)\n",
        "sns.heatmap(mlp_matrix,annot=True, cbar=False, cmap=plt.cm.Blues,linewidth=0.5,fmt=\"d\")\n",
        "plt.ylabel('Valor real')\n",
        "plt.xlabel('Valor predicho')\n",
        "plt.title('Matriz de confusión - Árbol de Decisión');"
      ]
    },
    {
      "cell_type": "markdown",
      "id": "f810fb47",
      "metadata": {
        "ExecuteTime": {
          "end_time": "2022-03-14T16:16:57.134093Z",
          "start_time": "2022-03-14T16:16:57.117129Z"
        },
        "id": "f810fb47"
      },
      "source": [
        "## Discusión de los resultados obtenidos y argumentos sobre cómo se podrían mejorar de dichos resultados"
      ]
    },
    {
      "cell_type": "markdown",
      "id": "c74b3044",
      "metadata": {
        "id": "c74b3044"
      },
      "source": [
        "Realice en este espacio todo el análsis de resultados final incluyendo: \n",
        "+ Resultados comparados. Conclusiones objetivas y significantes con base a las diferentes métricas escogidas. \n",
        "+ Argumentos que describan con qué técnica se obtienen mejores resultados en base a las diferentes métricas que hayas escogido\n",
        "+ Explicación de cómo se podrían mejorar los resultados obtenidos por las redes neuronales, independientemente de que mejoren o no a los algoritmos no basados en redes neuronales."
      ]
    },
    {
      "cell_type": "markdown",
      "source": [
        "**Discusión de los resultados**\n",
        "\n",
        "  - Los modelos de árbol de decisión y red neuronal tienen un poder predictivo muy parecido ya que tienen accuracy, precisión y recall muy cercanos. \n",
        "\n",
        "  - Ambos modelos son muy malos en predicción (No recomendable su uso) ya que tan solo aciertan el 50% de los casos, que prácticamente es lo mismo que lanzar una moneda.\n",
        "\n",
        "- Los resultados obtenidos se pueden mejorar con una data más grande; es decir, tener más información ya que con la que se tiene no se pueden elaborar reglas que discrimen de mejor manera."
      ],
      "metadata": {
        "id": "xQP1-AIzKiXj"
      },
      "id": "xQP1-AIzKiXj"
    }
  ],
  "metadata": {
    "kernelspec": {
      "display_name": "Python 3 (ipykernel)",
      "language": "python",
      "name": "python3"
    },
    "language_info": {
      "codemirror_mode": {
        "name": "ipython",
        "version": 3
      },
      "file_extension": ".py",
      "mimetype": "text/x-python",
      "name": "python",
      "nbconvert_exporter": "python",
      "pygments_lexer": "ipython3",
      "version": "3.9.7"
    },
    "toc": {
      "base_numbering": 1,
      "nav_menu": {},
      "number_sections": true,
      "sideBar": true,
      "skip_h1_title": true,
      "title_cell": "Tabla de Contenido",
      "title_sidebar": "Contenido",
      "toc_cell": false,
      "toc_position": {
        "height": "calc(100% - 180px)",
        "left": "10px",
        "top": "150px",
        "width": "263.591px"
      },
      "toc_section_display": true,
      "toc_window_display": true
    },
    "colab": {
      "provenance": []
    }
  },
  "nbformat": 4,
  "nbformat_minor": 5
}